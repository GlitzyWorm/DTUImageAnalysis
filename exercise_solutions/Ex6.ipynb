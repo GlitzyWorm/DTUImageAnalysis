{
 "cells": [
  {
   "cell_type": "code",
   "execution_count": 1,
   "metadata": {},
   "source": [
    "from skimage import io, color\n",
    "from skimage.morphology import binary_closing, binary_opening\n",
    "from skimage.morphology import disk\n",
    "import matplotlib.pyplot as plt\n",
    "import numpy as np\n",
    "from skimage import measure\n",
    "from skimage.color import label2rgb\n",
    "import pydicom as dicom\n",
    "from scipy.stats import norm\n",
    "from scipy.spatial import distance\n",
    "\n",
    "\n",
    "def show_comparison(original, modified, modified_name):\n",
    "    fig, (ax1, ax2) = plt.subplots(ncols=2, figsize=(8, 4), sharex=True,\n",
    "                                   sharey=True)\n",
    "    ax1.imshow(original, cmap=\"gray\", vmin=-200, vmax=500)\n",
    "    ax1.set_title('Original')\n",
    "    ax1.axis('off')\n",
    "    ax2.imshow(modified)\n",
    "    ax2.set_title(modified_name)\n",
    "    ax2.axis('off')\n",
    "    io.show()"
   ],
   "outputs": []
  },
  {
   "cell_type": "code",
   "execution_count": 2,
   "metadata": {},
   "source": [
    "in_dir = \"data/\"\n",
    "ct = dicom.read_file(in_dir + 'Training.dcm')\n",
    "img = ct.pixel_array\n",
    "print(img.shape)\n",
    "print(img.dtype)"
   ],
   "outputs": []
  },
  {
   "cell_type": "markdown",
   "metadata": {},
   "source": [
    "### Exercise 1"
   ]
  },
  {
   "cell_type": "code",
   "execution_count": 3,
   "metadata": {},
   "source": [
    "io.imshow(img, vmin=0, vmax=100, cmap='gray')\n",
    "io.show()"
   ],
   "outputs": []
  },
  {
   "cell_type": "code",
   "execution_count": 4,
   "metadata": {},
   "source": [
    "spleen_roi = io.imread(in_dir + 'SpleenROI.png')\n",
    "# convert to boolean image\n",
    "spleen_mask = spleen_roi > 0\n",
    "spleen_values = img[spleen_mask]"
   ],
   "outputs": []
  },
  {
   "cell_type": "markdown",
   "metadata": {},
   "source": [
    "### Exercise 2"
   ]
  },
  {
   "cell_type": "code",
   "execution_count": 5,
   "metadata": {},
   "source": [
    "mu_spleen = np.mean(spleen_values)\n",
    "std_spleen = np.std(spleen_values)\n",
    "\n",
    "print(f'Mean {mu_spleen} - Std {std_spleen}')"
   ],
   "outputs": []
  },
  {
   "cell_type": "markdown",
   "metadata": {},
   "source": [
    "### Exercise 3"
   ]
  },
  {
   "cell_type": "code",
   "execution_count": 6,
   "metadata": {},
   "source": [
    "n, bins, patches = plt.hist(spleen_values, 60, density=1)\n",
    "pdf_spleen = norm.pdf(bins, mu_spleen, std_spleen)\n",
    "plt.plot(bins, pdf_spleen)\n",
    "plt.xlabel('Hounsfield unit')\n",
    "plt.ylabel('Frequency')\n",
    "plt.title('Spleen values in CT scan')\n",
    "plt.show()"
   ],
   "outputs": []
  },
  {
   "cell_type": "markdown",
   "metadata": {},
   "source": [
    "### Exercise 4"
   ]
  },
  {
   "cell_type": "code",
   "execution_count": 7,
   "metadata": {},
   "source": [
    "def load_mask(mask_path):\n",
    "    roi = io.imread(mask_path)\n",
    "    mask = roi > 0\n",
    "    return mask\n",
    "\n",
    "def get_values(img, mask_path):\n",
    "    mask = load_mask(mask_path)\n",
    "    return img[mask]\n",
    "\n",
    "\n",
    "paths = ['BoneROI.png', 'FatROI.png', 'KidneyROI.png', 'LiverROI.png', 'SpleenROI.png']\n",
    "values = [get_values(img, in_dir + path) for path in paths]"
   ],
   "outputs": []
  },
  {
   "cell_type": "code",
   "execution_count": 8,
   "metadata": {},
   "source": [
    "def get_gaussian_distributions(values, min_hu = -200, max_hu = 1000):\n",
    "    hu_range = np.arange(min_hu, max_hu, 1.0)\n",
    "    mu = np.mean(values)\n",
    "    std = np.std(values)\n",
    "    pdf = norm.pdf(hu_range, mu, std)\n",
    "    return pdf\n"
   ],
   "outputs": []
  },
  {
   "cell_type": "code",
   "execution_count": 9,
   "metadata": {},
   "source": [
    "for value, name in zip(values, paths):\n",
    "    n, bins, patches = plt.hist(value, 60, density=1)\n",
    "    mu = np.mean(value)\n",
    "    std = np.std(value)\n",
    "    pdf = norm.pdf(bins, mu, std)\n",
    "    plt.plot(bins, pdf)\n",
    "    plt.xlabel('Hounsfield unit')\n",
    "    plt.ylabel('Frequency')\n",
    "    plt.title(name)\n",
    "    plt.show()"
   ],
   "outputs": []
  },
  {
   "cell_type": "markdown",
   "metadata": {},
   "source": [
    "### Exercise 5"
   ]
  },
  {
   "cell_type": "code",
   "execution_count": 10,
   "metadata": {},
   "source": [
    "# Hounsfield unit limits of the plot\n",
    "min_hu, max_hu = -200, 1000\n",
    "hu_range = np.arange(min_hu, max_hu, 1.0)\n",
    "pdfs = [get_gaussian_distributions(value) for value in values]\n",
    "\n",
    "for pdf, path in zip(pdfs, paths):\n",
    "    plt.plot(hu_range, pdf, label=path)\n",
    "    \n",
    "plt.title(\"Fitted Gaussians\")\n",
    "plt.legend()\n",
    "plt.show()"
   ],
   "outputs": []
  },
  {
   "cell_type": "markdown",
   "metadata": {},
   "source": [
    "### Exercise 6"
   ]
  },
  {
   "cell_type": "markdown",
   "metadata": {},
   "source": [
    "We can differenciate intensity-wise the fat, soft tissues (kidney, liver, spleen) and bone"
   ]
  },
  {
   "cell_type": "markdown",
   "metadata": {},
   "source": [
    "### Exercise 7"
   ]
  },
  {
   "cell_type": "code",
   "execution_count": 11,
   "metadata": {},
   "source": [
    "vals_soft_tissue = np.concatenate(values[-3:])\n",
    "soft_tissue_mean = np.mean(vals_soft_tissue)\n",
    "bone_mean = np.mean(values[0])\n",
    "fat_mean = np.mean(values[1])\n",
    "\n",
    "print(f'Soft tissue mean: {soft_tissue_mean} - Bone mean: {bone_mean} - Fat mean: {fat_mean}')"
   ],
   "outputs": []
  },
  {
   "cell_type": "code",
   "execution_count": 12,
   "metadata": {},
   "source": [
    "t_fat_soft = (soft_tissue_mean + fat_mean)/2\n",
    "t_bone_soft = (soft_tissue_mean + bone_mean)/2"
   ],
   "outputs": []
  },
  {
   "cell_type": "markdown",
   "metadata": {},
   "source": [
    "### Exercise 8"
   ]
  },
  {
   "cell_type": "code",
   "execution_count": 13,
   "metadata": {},
   "source": [
    "t_background = -200\n",
    "fat_img = (img > t_background) & (img <= t_fat_soft)\n",
    "soft_img = (img > t_fat_soft) & (img <= t_bone_soft)\n",
    "bone_img = (img > t_bone_soft) & (img <= 1000)"
   ],
   "outputs": []
  },
  {
   "cell_type": "markdown",
   "metadata": {},
   "source": [
    "### Exercise 9"
   ]
  },
  {
   "cell_type": "code",
   "execution_count": 14,
   "metadata": {},
   "source": [
    "label_img = fat_img + 2 * soft_img + 3 * bone_img\n",
    "image_label_overlay = label2rgb(label_img)\n",
    "show_comparison(img, image_label_overlay, 'Classification result')"
   ],
   "outputs": []
  },
  {
   "cell_type": "markdown",
   "metadata": {},
   "source": [
    "## Parametric pixel classification"
   ]
  },
  {
   "cell_type": "markdown",
   "metadata": {},
   "source": [
    "### Exercise 9"
   ]
  },
  {
   "cell_type": "code",
   "execution_count": 19,
   "metadata": {},
   "source": [
    "%matplotlib widget\n",
    "# Hounsfield unit limits of the plot\n",
    "min_hu, max_hu = -200, 1000\n",
    "hu_range = np.arange(min_hu, max_hu, 1.0)\n",
    "pdfs = [get_gaussian_distributions(value) for value in values]\n",
    "\n",
    "for pdf, path in zip(pdfs, paths):\n",
    "    plt.plot(hu_range, pdf, label=path)\n",
    "    \n",
    "plt.title(\"Fitted Gaussians - Tissue wise\")\n",
    "plt.legend()\n",
    "plt.show()"
   ],
   "outputs": []
  },
  {
   "cell_type": "code",
   "execution_count": 22,
   "metadata": {},
   "source": [
    "%matplotlib widget\n",
    "# Hounsfield unit limits of the plot\n",
    "min_hu, max_hu = -200, 1000\n",
    "hu_range = np.arange(min_hu, max_hu, 1.0)\n",
    "values_3_classes = [values[0], values[1], vals_soft_tissue]\n",
    "labels_3_classes = ['Bone', 'Fat', 'Soft tissue']\n",
    "\n",
    "pdfs_3_classes = [get_gaussian_distributions(value) for value in values_3_classes]\n",
    "\n",
    "for pdf, path in zip(pdfs_3_classes, labels_3_classes):\n",
    "    plt.plot(hu_range, pdf, label=path)\n",
    "    \n",
    "plt.title(\"Fitted Gaussians - Tissue wise\")\n",
    "plt.legend()\n",
    "plt.show()"
   ],
   "outputs": []
  },
  {
   "cell_type": "markdown",
   "metadata": {},
   "source": [
    "### Exercise 10"
   ]
  },
  {
   "cell_type": "code",
   "execution_count": 23,
   "metadata": {},
   "source": [
    "%matplotlib inline\n",
    "\n",
    "# Manual intersection Fat - Soft\n",
    "for pdf, path in zip(pdfs_3_classes, labels_3_classes):\n",
    "    plt.plot(hu_range, pdf, label=path)\n",
    "plt.title(\"Intersection Fat - Soft\")\n",
    "plt.xlim(-45, -44)\n",
    "plt.ylim(0, 1e-7)\n",
    "plt.legend()\n",
    "plt.show()\n",
    "\n",
    "# Manual intersection  Soft - Bone\n",
    "for pdf, path in zip(pdfs_3_classes, labels_3_classes):\n",
    "    plt.plot(hu_range, pdf, label=path)\n",
    "    \n",
    "plt.title(\"Intersection Soft - Bone\")\n",
    "plt.xlim(138, 142)\n",
    "plt.ylim(0, 1e-8)\n",
    "plt.legend()\n",
    "plt.show()"
   ],
   "outputs": []
  },
  {
   "cell_type": "code",
   "execution_count": null,
   "metadata": {},
   "source": [
    "# This cell helps you to define an \n",
    "# interval for the intersection of the gaussians. \n",
    "# Just change the test_value and run the cell again\n",
    "\n",
    "mu_bone = np.mean(values_3_classes[0])\n",
    "std_bone = np.std(values_3_classes[0])\n",
    "\n",
    "mu_fat = np.mean(values_3_classes[1])\n",
    "std_fat = np.std(values_3_classes[1])\n",
    "\n",
    "mu_soft = np.mean(values_3_classes[2])\n",
    "std_soft = np.std(values_3_classes[2])\n",
    "\n",
    "# Soft vs Bone\n",
    "test_value = 140\n",
    "if norm.pdf(test_value, mu_soft, std_soft) > norm.pdf(test_value, mu_bone, std_bone):\n",
    "\tprint(f\"For value {test_value} the class is soft tissue\")\n",
    "else:\n",
    "\tprint(f\"For value {test_value} the class is bone\")\n",
    " \n",
    "# Soft vs Fat\n",
    "test_value = -45\n",
    "if norm.pdf(test_value, mu_soft, std_soft) > norm.pdf(test_value, mu_fat, std_fat):\n",
    "\tprint(f\"For value {test_value} the class is soft tissue\")\n",
    "else:\n",
    "\tprint(f\"For value {test_value} the class is fat\")"
   ],
   "outputs": []
  },
  {
   "cell_type": "markdown",
   "metadata": {},
   "source": [
    "### Exercise 11"
   ]
  },
  {
   "cell_type": "code",
   "execution_count": null,
   "metadata": {},
   "source": [
    "# Automatic intersection Fat - Soft\n",
    "for test_value in np.linspace(mu_fat, mu_soft, 1000):\n",
    "    if norm.pdf(test_value, mu_soft, std_soft) > norm.pdf(test_value, mu_fat, std_fat):\n",
    "        thres_fat_soft = test_value\n",
    "        print(f\"Fat - Soft threshold: {thres_fat_soft}\")\n",
    "        break\n",
    "\n",
    "# Automatic intersection Soft - Bone\n",
    "for test_value in np.linspace(mu_soft, mu_bone, 1000):\n",
    "    if norm.pdf(test_value, mu_bone, std_bone) > norm.pdf(test_value, mu_soft, std_soft):\n",
    "        thres_soft_bone = test_value\n",
    "        print(f\"Soft - Bone threshold: {thres_soft_bone}\")\n",
    "        break"
   ],
   "outputs": []
  },
  {
   "attachments": {},
   "cell_type": "markdown",
   "metadata": {},
   "source": [
    "## Object segmentation - The spleen finder"
   ]
  },
  {
   "attachments": {},
   "cell_type": "markdown",
   "metadata": {},
   "source": [
    "### Exercise 11"
   ]
  },
  {
   "cell_type": "code",
   "execution_count": null,
   "metadata": {},
   "source": [
    "in_dir = \"data/\"\n",
    "ct = dicom.read_file(in_dir + 'Training.dcm')\n",
    "img = ct.pixel_array\n",
    "\n",
    "path = \"SpleenROI.png\"\n",
    "spleen_mask = load_mask(in_dir + path)\n",
    "spleen_values = img[spleen_mask]\n",
    "\n",
    "# fig, ax = plt.subplots()\n",
    "# ax.imshow(spleen_mask)\n",
    "\n",
    "fig, ax = plt.subplots()\n",
    "n, bins, patches = ax.hist(spleen_values, 60, density=1)\n",
    "pdf_spleen = norm.pdf(bins, mu_spleen, std_spleen)\n",
    "ax.plot(bins, pdf_spleen)\n",
    "ax.set_xlabel('Hounsfield unit')\n",
    "ax.set_ylabel('Frequency')\n",
    "ax.set_title('Spleen values in CT scan')\n",
    "plt.show()\n",
    "\n",
    "t_1, t_2 = 20, 80"
   ],
   "outputs": []
  },
  {
   "cell_type": "code",
   "execution_count": null,
   "metadata": {},
   "source": [
    "spleen_estimate = (img > t_1) & (img < t_2)\n",
    "spleen_label_colour = color.label2rgb(spleen_estimate)\n",
    "io.imshow(spleen_label_colour)\n",
    "plt.title(\"First spleen estimate\")\n",
    "io.show()"
   ],
   "outputs": []
  },
  {
   "cell_type": "markdown",
   "metadata": {},
   "source": [
    "### Exercise 12"
   ]
  },
  {
   "cell_type": "code",
   "execution_count": null,
   "metadata": {},
   "source": [
    "footprint = disk(2)\n",
    "closed = binary_closing(spleen_estimate, footprint)\n",
    "spleen_label_colour = color.label2rgb(closed)\n",
    "\n",
    "io.imshow(spleen_label_colour)\n",
    "plt.title(\"Closed spleen estimate\")\n",
    "io.show()\n",
    "\n",
    "footprint = disk(4)\n",
    "opened = binary_opening(closed, footprint)\n",
    "spleen_label_colour = color.label2rgb(opened)\n",
    "io.imshow(spleen_label_colour)\n",
    "plt.title(\"Opened spleen estimate\")\n",
    "io.show()"
   ],
   "outputs": []
  },
  {
   "attachments": {},
   "cell_type": "markdown",
   "metadata": {},
   "source": [
    "### Exercise 12"
   ]
  },
  {
   "cell_type": "code",
   "execution_count": null,
   "metadata": {},
   "source": [
    "label_img = measure.label(opened)\n",
    "im_blob = label2rgb(label_img)\n",
    "\n",
    "plt.imshow(im_blob)\n",
    "plt.show()"
   ],
   "outputs": []
  },
  {
   "cell_type": "markdown",
   "metadata": {},
   "source": [
    "### Exercise 13"
   ]
  },
  {
   "cell_type": "code",
   "execution_count": null,
   "metadata": {},
   "source": [
    "# Inspect the properties first \n",
    "region_props = measure.regionprops(label_img)\n",
    "\n",
    "areas = np.array([prop.area for prop in region_props])\n",
    "print(areas)\n",
    "# plt.hist(areas, bins=50)\n",
    "# plt.show()\n",
    "\n",
    "perimeters = np.array([prop.perimeter for prop in region_props])\n",
    "print(perimeters)"
   ],
   "outputs": []
  },
  {
   "cell_type": "code",
   "execution_count": null,
   "metadata": {},
   "source": [
    "min_area = 2000\n",
    "max_area = 10000\n",
    "\n",
    "# Create a copy of the label_img\n",
    "label_img_filter = label_img.copy()\n",
    "for region in region_props:\n",
    "\t# Find the areas that do not fit our criteria\n",
    "\tif region.area > max_area or region.area < min_area:\n",
    "\t\t# set the pixels in the invalid areas to background\n",
    "\t\tfor cords in region.coords:\n",
    "\t\t\tlabel_img_filter[cords[0], cords[1]] = 0\n",
    "# Create binary image from the filtered label image\n",
    "i_area = label_img_filter > 0\n",
    "show_comparison(img, i_area, 'Found spleen based on area')\n"
   ],
   "outputs": []
  },
  {
   "cell_type": "markdown",
   "metadata": {},
   "source": [
    "### Exercise 14"
   ]
  },
  {
   "cell_type": "code",
   "execution_count": null,
   "metadata": {},
   "source": [
    "min_area = 2000\n",
    "max_area = 10000\n",
    "min_perimeter = 100\n",
    "max_perimeter = 350\n",
    "\n",
    "# Create a copy of the label_img\n",
    "label_img_filter = label_img.copy()\n",
    "for region in region_props:\n",
    "\t# Find the areas that do not fit our criteria\n",
    "\tcrit1 = region.area > max_area or region.area < min_area\n",
    "\tcrit2 = region.perimeter > max_perimeter or region.perimeter < min_perimeter\n",
    "\tif crit1 or crit2:\n",
    "\t\t# set the pixels in the invalid areas to background\n",
    "\t\tfor cords in region.coords:\n",
    "\t\t\tlabel_img_filter[cords[0], cords[1]] = 0\n",
    "  \n",
    "# Create binary image from the filtered label image\n",
    "i_area_perimeter = label_img_filter > 0\n",
    "show_comparison(img, i_area_perimeter, 'Found spleen based on area and perimeter')"
   ],
   "outputs": []
  },
  {
   "cell_type": "markdown",
   "metadata": {},
   "source": [
    "### Exercise 15"
   ]
  },
  {
   "cell_type": "code",
   "execution_count": null,
   "metadata": {},
   "source": [
    "def spleen_finder(img):\n",
    "    t_1, t_2 = 20, 80\n",
    "    spleen_estimate = (img > t_1) & (img < t_2)\n",
    "\n",
    "    footprint = disk(2)\n",
    "    closed = binary_closing(spleen_estimate, footprint)\n",
    "    footprint = disk(4)\n",
    "    opened = binary_opening(closed, footprint)\n",
    "\n",
    "    label_img = measure.label(opened)\n",
    "    region_props = measure.regionprops(label_img)\n",
    "\n",
    "    min_area = 2000\n",
    "    max_area = 10000\n",
    "    min_perimeter = 100\n",
    "    max_perimeter = 350\n",
    "\n",
    "    # Create a copy of the label_img\n",
    "    label_img_filter = label_img.copy()\n",
    "    for region in region_props:\n",
    "        # Find the areas that do not fit our criteria\n",
    "        crit1 = region.area > max_area or region.area < min_area\n",
    "        crit2 = region.perimeter > max_perimeter or region.perimeter < min_perimeter\n",
    "        if crit1 or crit2:\n",
    "            # set the pixels in the invalid areas to background\n",
    "            for cords in region.coords:\n",
    "                label_img_filter[cords[0], cords[1]] = 0\n",
    "    \n",
    "    # Create binary image from the filtered label image\n",
    "    i_area_perimeter = label_img_filter > 0\n",
    "    \n",
    "    return i_area_perimeter\n",
    "\n",
    "spleen_estimate = spleen_finder(img)\n",
    "show_comparison(img, spleen_estimate, 'Spleen finder')"
   ],
   "outputs": []
  },
  {
   "cell_type": "markdown",
   "metadata": {},
   "source": [
    "### Exercise 16"
   ]
  },
  {
   "cell_type": "code",
   "execution_count": null,
   "metadata": {},
   "source": [
    "def load_dcm(path):\n",
    "    ct = dicom.read_file(path)\n",
    "    img = ct.pixel_array\n",
    "    return img\n",
    "\n",
    "for i in range(1, 4):\n",
    "    path = f\"data/Validation{i}.dcm\"\n",
    "    img = load_dcm(path)\n",
    "    spleen_estimate = spleen_finder(img)\n",
    "    show_comparison(img, spleen_estimate, f\"Spleen estimate for image {i}\")"
   ],
   "outputs": []
  },
  {
   "cell_type": "markdown",
   "metadata": {},
   "source": [
    "### Exercise 17"
   ]
  },
  {
   "cell_type": "code",
   "execution_count": null,
   "metadata": {},
   "source": [
    "def dice_score(img, gt_bin):\n",
    "    # Calculate the dice score\n",
    "    dice_score = 1 - distance.dice(img.ravel(), gt_bin.ravel())\n",
    "    return dice_score\n",
    "\n",
    "for i in range(1, 4):\n",
    "    path = f\"data/Validation{i}.dcm\"\n",
    "    img = load_dcm(path)\n",
    "    spleen_estimate = spleen_finder(img)\n",
    "    spleen_gt = load_mask(f\"data/Validation{i}_spleen.png\")\n",
    "    dice = dice_score(spleen_estimate, spleen_gt)\n",
    "    print(f\"Dice score for validation image {i}: {dice:.3f}\")"
   ],
   "outputs": []
  },
  {
   "cell_type": "markdown",
   "metadata": {},
   "source": [
    "### Exercise 18"
   ]
  },
  {
   "cell_type": "code",
   "execution_count": null,
   "metadata": {},
   "source": [
    "for i in range(1, 4):\n",
    "    path = f\"data/Test{i}.dcm\"\n",
    "    img = load_dcm(path)\n",
    "    spleen_estimate = spleen_finder(img)\n",
    "    spleen_gt = load_mask(f\"data/Test{i}_spleen.png\")\n",
    "    dice = dice_score(spleen_estimate, spleen_gt)\n",
    "    show_comparison(img, spleen_estimate, f\"Spleen estimate for image {i}\")\n",
    "    print(f\"Dice score for test image {i}: {dice:.3f}\")"
   ],
   "outputs": []
  }
 ],
 "metadata": {
  "kernelspec": {
   "display_name": "Python 3.8.13 ('TA_02502')",
   "language": "python",
   "name": "python3"
  },
  "language_info": {
   "codemirror_mode": {
    "name": "ipython",
    "version": 3
   },
   "file_extension": ".py",
   "mimetype": "text/x-python",
   "name": "python",
   "nbconvert_exporter": "python",
   "pygments_lexer": "ipython3",
   "version": "3.9.18"
  },
  "orig_nbformat": 4,
  "vscode": {
   "interpreter": {
    "hash": "51d53b8e1fd0fde6d81c38d7eb18c14552af3d2fef18d70e093d6b142056d954"
   }
  }
 },
 "nbformat": 4,
 "nbformat_minor": 2
}
