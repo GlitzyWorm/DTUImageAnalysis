{
 "cells": [
  {
   "cell_type": "markdown",
   "id": "dedc23ad-45f7-48cd-aa1c-316049a917f3",
   "metadata": {},
   "source": [
    "# Ex 1 - Image Analysis Introduction"
   ]
  },
  {
   "cell_type": "code",
   "execution_count": 7,
   "id": "20c54a51-e107-4cc6-9453-3beb33502a71",
   "metadata": {
    "ExecuteTime": {
     "end_time": "2024-05-09T09:32:47.363762800Z",
     "start_time": "2024-05-09T09:32:47.182357400Z"
    }
   },
   "outputs": [
    {
     "ename": "ModuleNotFoundError",
     "evalue": "No module named 'skimage'",
     "output_type": "error",
     "traceback": [
      "\u001B[1;31m---------------------------------------------------------------------------\u001B[0m",
      "\u001B[1;31mModuleNotFoundError\u001B[0m                       Traceback (most recent call last)",
      "Cell \u001B[1;32mIn[7], line 2\u001B[0m\n\u001B[0;32m      1\u001B[0m \u001B[38;5;28;01mimport\u001B[39;00m \u001B[38;5;21;01mos\u001B[39;00m\n\u001B[1;32m----> 2\u001B[0m \u001B[38;5;28;01mfrom\u001B[39;00m \u001B[38;5;21;01mskimage\u001B[39;00m \u001B[38;5;28;01mimport\u001B[39;00m color, io, measure, img_as_ubyte\n\u001B[0;32m      3\u001B[0m \u001B[38;5;28;01mfrom\u001B[39;00m \u001B[38;5;21;01mskimage\u001B[39;00m\u001B[38;5;21;01m.\u001B[39;00m\u001B[38;5;21;01mmeasure\u001B[39;00m \u001B[38;5;28;01mimport\u001B[39;00m profile_line\n\u001B[0;32m      4\u001B[0m \u001B[38;5;28;01mfrom\u001B[39;00m \u001B[38;5;21;01mskimage\u001B[39;00m\u001B[38;5;21;01m.\u001B[39;00m\u001B[38;5;21;01mtransform\u001B[39;00m \u001B[38;5;28;01mimport\u001B[39;00m rescale, resize\n",
      "\u001B[1;31mModuleNotFoundError\u001B[0m: No module named 'skimage'"
     ]
    }
   ],
   "source": [
    "import os\n",
    "from skimage import color, io, measure, img_as_ubyte\n",
    "from skimage.measure import profile_line\n",
    "from skimage.transform import rescale, resize\n",
    "import matplotlib.pyplot as plt\n",
    "import numpy as np\n",
    "import pydicom as dicom\n",
    "\n",
    "# You may need ipympl: pip install ipympl\n",
    "# %matplotlib widget\n",
    "# %matplotlib nbagg"
   ]
  },
  {
   "cell_type": "markdown",
   "id": "cd40811c-00b9-4ea0-a10a-f57f8073b9f8",
   "metadata": {},
   "source": [
    "## Ex 1"
   ]
  },
  {
   "cell_type": "code",
   "execution_count": 8,
   "id": "df535315-8f15-4b44-908e-1a0c6482fa67",
   "metadata": {
    "ExecuteTime": {
     "end_time": "2024-05-09T09:32:47.469078300Z",
     "start_time": "2024-05-09T09:32:47.368767200Z"
    }
   },
   "outputs": [
    {
     "ename": "NameError",
     "evalue": "name 'io' is not defined",
     "output_type": "error",
     "traceback": [
      "\u001B[1;31m---------------------------------------------------------------------------\u001B[0m",
      "\u001B[1;31mNameError\u001B[0m                                 Traceback (most recent call last)",
      "Cell \u001B[1;32mIn[8], line 9\u001B[0m\n\u001B[0;32m      5\u001B[0m im_name \u001B[38;5;241m=\u001B[39m \u001B[38;5;124m\"\u001B[39m\u001B[38;5;124mmetacarpals.png\u001B[39m\u001B[38;5;124m\"\u001B[39m\n\u001B[0;32m      7\u001B[0m \u001B[38;5;66;03m# Read the image.\u001B[39;00m\n\u001B[0;32m      8\u001B[0m \u001B[38;5;66;03m# Here the directory and the image name is concatenated  by \"+\" to give the full path to the image.\u001B[39;00m\n\u001B[1;32m----> 9\u001B[0m im_org \u001B[38;5;241m=\u001B[39m \u001B[43mio\u001B[49m\u001B[38;5;241m.\u001B[39mimread(os\u001B[38;5;241m.\u001B[39mpath\u001B[38;5;241m.\u001B[39mjoin(in_dir, im_name))\n",
      "\u001B[1;31mNameError\u001B[0m: name 'io' is not defined"
     ]
    }
   ],
   "source": [
    "# Directory containing data and images\n",
    "in_dir = \"data/\"\n",
    "\n",
    "# X-ray image\n",
    "im_name = \"metacarpals.png\"\n",
    "\n",
    "# Read the image.\n",
    "# Here the directory and the image name is concatenated  by \"+\" to give the full path to the image.\n",
    "im_org = io.imread(os.path.join(in_dir, im_name))"
   ]
  },
  {
   "cell_type": "markdown",
   "id": "44bf99d0",
   "metadata": {},
   "source": [
    "## Ex 2 and 3"
   ]
  },
  {
   "cell_type": "code",
   "execution_count": 9,
   "id": "26a43675",
   "metadata": {
    "ExecuteTime": {
     "start_time": "2024-05-09T09:32:47.421852200Z"
    }
   },
   "outputs": [
    {
     "ename": "NameError",
     "evalue": "name 'im_org' is not defined",
     "output_type": "error",
     "traceback": [
      "\u001B[1;31m---------------------------------------------------------------------------\u001B[0m",
      "\u001B[1;31mNameError\u001B[0m                                 Traceback (most recent call last)",
      "Cell \u001B[1;32mIn[9], line 1\u001B[0m\n\u001B[1;32m----> 1\u001B[0m \u001B[38;5;28mprint\u001B[39m(\u001B[43mim_org\u001B[49m\u001B[38;5;241m.\u001B[39mshape)\n\u001B[0;32m      2\u001B[0m \u001B[38;5;28mprint\u001B[39m(im_org\u001B[38;5;241m.\u001B[39mdtype)\n",
      "\u001B[1;31mNameError\u001B[0m: name 'im_org' is not defined"
     ]
    }
   ],
   "source": [
    "print(im_org.shape)\n",
    "print(im_org.dtype)"
   ]
  },
  {
   "cell_type": "markdown",
   "id": "3081b56b-f968-4d9b-ab3c-5d2932b575b9",
   "metadata": {},
   "source": [
    "## Ex 4"
   ]
  },
  {
   "cell_type": "code",
   "execution_count": 10,
   "id": "ce0afc2a-57fc-45ea-bd83-4f1d061f84ea",
   "metadata": {
    "ExecuteTime": {
     "end_time": "2024-05-09T09:32:47.647024100Z",
     "start_time": "2024-05-09T09:32:47.599274300Z"
    }
   },
   "outputs": [
    {
     "ename": "NameError",
     "evalue": "name 'io' is not defined",
     "output_type": "error",
     "traceback": [
      "\u001B[1;31m---------------------------------------------------------------------------\u001B[0m",
      "\u001B[1;31mNameError\u001B[0m                                 Traceback (most recent call last)",
      "Cell \u001B[1;32mIn[10], line 1\u001B[0m\n\u001B[1;32m----> 1\u001B[0m \u001B[43mio\u001B[49m\u001B[38;5;241m.\u001B[39mimshow(im_org)\n\u001B[0;32m      2\u001B[0m plt\u001B[38;5;241m.\u001B[39mtitle(\u001B[38;5;124m\"\u001B[39m\u001B[38;5;124mMetacarpal image\u001B[39m\u001B[38;5;124m\"\u001B[39m)\n\u001B[0;32m      3\u001B[0m io\u001B[38;5;241m.\u001B[39mshow()\n",
      "\u001B[1;31mNameError\u001B[0m: name 'io' is not defined"
     ]
    }
   ],
   "source": [
    "io.imshow(im_org)\n",
    "plt.title(\"Metacarpal image\")\n",
    "io.show()"
   ]
  },
  {
   "cell_type": "markdown",
   "id": "37869c1f-a55f-4fe9-9121-23f02b95603b",
   "metadata": {},
   "source": [
    "## Ex 5"
   ]
  },
  {
   "cell_type": "code",
   "execution_count": 11,
   "id": "e45f3228-58bf-4934-b355-3792077f5468",
   "metadata": {
    "ExecuteTime": {
     "end_time": "2024-05-09T09:32:47.714780800Z",
     "start_time": "2024-05-09T09:32:47.649524200Z"
    }
   },
   "outputs": [
    {
     "ename": "NameError",
     "evalue": "name 'io' is not defined",
     "output_type": "error",
     "traceback": [
      "\u001B[1;31m---------------------------------------------------------------------------\u001B[0m",
      "\u001B[1;31mNameError\u001B[0m                                 Traceback (most recent call last)",
      "Cell \u001B[1;32mIn[11], line 1\u001B[0m\n\u001B[1;32m----> 1\u001B[0m \u001B[43mio\u001B[49m\u001B[38;5;241m.\u001B[39mimshow(im_org, cmap\u001B[38;5;241m=\u001B[39m\u001B[38;5;124m\"\u001B[39m\u001B[38;5;124mjet\u001B[39m\u001B[38;5;124m\"\u001B[39m)\n\u001B[0;32m      2\u001B[0m plt\u001B[38;5;241m.\u001B[39mtitle(\u001B[38;5;124m'\u001B[39m\u001B[38;5;124mMetacarpal image (with colormap)\u001B[39m\u001B[38;5;124m'\u001B[39m)\n\u001B[0;32m      3\u001B[0m io\u001B[38;5;241m.\u001B[39mshow()\n",
      "\u001B[1;31mNameError\u001B[0m: name 'io' is not defined"
     ]
    }
   ],
   "source": [
    "io.imshow(im_org, cmap=\"jet\")\n",
    "plt.title('Metacarpal image (with colormap)')\n",
    "io.show()"
   ]
  },
  {
   "cell_type": "markdown",
   "id": "035ef184",
   "metadata": {},
   "source": [
    "## Ex 6"
   ]
  },
  {
   "cell_type": "code",
   "execution_count": 12,
   "id": "db70bd3a",
   "metadata": {
    "ExecuteTime": {
     "start_time": "2024-05-09T09:32:47.704577900Z"
    }
   },
   "outputs": [
    {
     "ename": "NameError",
     "evalue": "name 'io' is not defined",
     "output_type": "error",
     "traceback": [
      "\u001B[1;31m---------------------------------------------------------------------------\u001B[0m",
      "\u001B[1;31mNameError\u001B[0m                                 Traceback (most recent call last)",
      "Cell \u001B[1;32mIn[12], line 6\u001B[0m\n\u001B[0;32m      3\u001B[0m colormaps \u001B[38;5;241m=\u001B[39m [\u001B[38;5;124m\"\u001B[39m\u001B[38;5;124mcool\u001B[39m\u001B[38;5;124m\"\u001B[39m, \u001B[38;5;124m\"\u001B[39m\u001B[38;5;124mhot\u001B[39m\u001B[38;5;124m\"\u001B[39m, \u001B[38;5;124m\"\u001B[39m\u001B[38;5;124mpink\u001B[39m\u001B[38;5;124m\"\u001B[39m, \u001B[38;5;124m\"\u001B[39m\u001B[38;5;124mcopper\u001B[39m\u001B[38;5;124m\"\u001B[39m, \u001B[38;5;124m\"\u001B[39m\u001B[38;5;124mcoolwarm\u001B[39m\u001B[38;5;124m\"\u001B[39m, \u001B[38;5;124m\"\u001B[39m\u001B[38;5;124mcubehelix\u001B[39m\u001B[38;5;124m\"\u001B[39m, \u001B[38;5;124m\"\u001B[39m\u001B[38;5;124mterrain\u001B[39m\u001B[38;5;124m\"\u001B[39m]\n\u001B[0;32m      5\u001B[0m \u001B[38;5;28;01mfor\u001B[39;00m cmap \u001B[38;5;129;01min\u001B[39;00m colormaps:\n\u001B[1;32m----> 6\u001B[0m     \u001B[43mio\u001B[49m\u001B[38;5;241m.\u001B[39mimshow(im_org, cmap\u001B[38;5;241m=\u001B[39mcmap)\n\u001B[0;32m      7\u001B[0m     plt\u001B[38;5;241m.\u001B[39mtitle(\u001B[38;5;124m'\u001B[39m\u001B[38;5;124mMetacarpal image (with colormap: \u001B[39m\u001B[38;5;132;01m{}\u001B[39;00m\u001B[38;5;124m)\u001B[39m\u001B[38;5;124m'\u001B[39m\u001B[38;5;241m.\u001B[39mformat(cmap))\n\u001B[0;32m      8\u001B[0m     io\u001B[38;5;241m.\u001B[39mshow()\n",
      "\u001B[1;31mNameError\u001B[0m: name 'io' is not defined"
     ]
    }
   ],
   "source": [
    "# Experiment with different colormaps. For example cool, hot, pink, copper, coolwarm, cubehelix, and terrain.\n",
    "\n",
    "colormaps = [\"cool\", \"hot\", \"pink\", \"copper\", \"coolwarm\", \"cubehelix\", \"terrain\"]\n",
    "\n",
    "for cmap in colormaps:\n",
    "    io.imshow(im_org, cmap=cmap)\n",
    "    plt.title('Metacarpal image (with colormap: {})'.format(cmap))\n",
    "    io.show()"
   ]
  },
  {
   "cell_type": "markdown",
   "id": "8a0e848d-b218-48fb-8014-b0f988df35f6",
   "metadata": {},
   "source": [
    "## Ex 7"
   ]
  },
  {
   "cell_type": "code",
   "execution_count": 13,
   "id": "d239bf11-a219-476a-bea9-fc67555b4a0d",
   "metadata": {
    "ExecuteTime": {
     "end_time": "2024-05-09T09:32:47.818264500Z",
     "start_time": "2024-05-09T09:32:47.773351200Z"
    }
   },
   "outputs": [
    {
     "ename": "NameError",
     "evalue": "name 'io' is not defined",
     "output_type": "error",
     "traceback": [
      "\u001B[1;31m---------------------------------------------------------------------------\u001B[0m",
      "\u001B[1;31mNameError\u001B[0m                                 Traceback (most recent call last)",
      "Cell \u001B[1;32mIn[13], line 1\u001B[0m\n\u001B[1;32m----> 1\u001B[0m \u001B[43mio\u001B[49m\u001B[38;5;241m.\u001B[39mimshow(im_org, vmin\u001B[38;5;241m=\u001B[39m\u001B[38;5;241m20\u001B[39m, vmax\u001B[38;5;241m=\u001B[39m\u001B[38;5;241m170\u001B[39m)\n\u001B[0;32m      2\u001B[0m plt\u001B[38;5;241m.\u001B[39mtitle(\u001B[38;5;124m'\u001B[39m\u001B[38;5;124mMetacarpal image (with gray level scaling)\u001B[39m\u001B[38;5;124m'\u001B[39m)\n\u001B[0;32m      3\u001B[0m io\u001B[38;5;241m.\u001B[39mshow()\n",
      "\u001B[1;31mNameError\u001B[0m: name 'io' is not defined"
     ]
    }
   ],
   "source": [
    "io.imshow(im_org, vmin=20, vmax=170)\n",
    "plt.title('Metacarpal image (with gray level scaling)')\n",
    "io.show()"
   ]
  },
  {
   "cell_type": "code",
   "execution_count": 14,
   "id": "e65a0681-64ec-4f47-aea4-b5f1406257f3",
   "metadata": {
    "ExecuteTime": {
     "end_time": "2024-05-09T09:32:47.888306200Z",
     "start_time": "2024-05-09T09:32:47.819264500Z"
    }
   },
   "outputs": [
    {
     "ename": "NameError",
     "evalue": "name 'io' is not defined",
     "output_type": "error",
     "traceback": [
      "\u001B[1;31m---------------------------------------------------------------------------\u001B[0m",
      "\u001B[1;31mNameError\u001B[0m                                 Traceback (most recent call last)",
      "Cell \u001B[1;32mIn[14], line 1\u001B[0m\n\u001B[1;32m----> 1\u001B[0m \u001B[43mio\u001B[49m\u001B[38;5;241m.\u001B[39mimshow(im_org, vmin\u001B[38;5;241m=\u001B[39mnp\u001B[38;5;241m.\u001B[39mmin(im_org), vmax\u001B[38;5;241m=\u001B[39mnp\u001B[38;5;241m.\u001B[39mmax(im_org))\n\u001B[0;32m      2\u001B[0m plt\u001B[38;5;241m.\u001B[39mtitle(\u001B[38;5;124m'\u001B[39m\u001B[38;5;124mMetacarpal image (with gray level scaling)\u001B[39m\u001B[38;5;124m'\u001B[39m)\n\u001B[0;32m      3\u001B[0m io\u001B[38;5;241m.\u001B[39mshow()\n",
      "\u001B[1;31mNameError\u001B[0m: name 'io' is not defined"
     ]
    }
   ],
   "source": [
    "io.imshow(im_org, vmin=np.min(im_org), vmax=np.max(im_org))\n",
    "plt.title('Metacarpal image (with gray level scaling)')\n",
    "io.show()"
   ]
  },
  {
   "cell_type": "markdown",
   "id": "744da99e-67af-4578-b7f7-c935ae67939a",
   "metadata": {},
   "source": [
    "## Ex 8"
   ]
  },
  {
   "cell_type": "code",
   "execution_count": 15,
   "id": "11d1450f-1eeb-4c48-84ac-cbf3cdb9c3cc",
   "metadata": {
    "ExecuteTime": {
     "start_time": "2024-05-09T09:32:47.879299200Z"
    }
   },
   "outputs": [
    {
     "ename": "ModuleNotFoundError",
     "evalue": "No module named 'matplotlib'",
     "output_type": "error",
     "traceback": [
      "\u001B[1;31m---------------------------------------------------------------------------\u001B[0m",
      "\u001B[1;31mModuleNotFoundError\u001B[0m                       Traceback (most recent call last)",
      "Cell \u001B[1;32mIn[15], line 2\u001B[0m\n\u001B[0;32m      1\u001B[0m nbins \u001B[38;5;241m=\u001B[39m \u001B[38;5;241m256\u001B[39m\n\u001B[1;32m----> 2\u001B[0m \u001B[43mget_ipython\u001B[49m\u001B[43m(\u001B[49m\u001B[43m)\u001B[49m\u001B[38;5;241;43m.\u001B[39;49m\u001B[43mrun_line_magic\u001B[49m\u001B[43m(\u001B[49m\u001B[38;5;124;43m'\u001B[39;49m\u001B[38;5;124;43mmatplotlib\u001B[39;49m\u001B[38;5;124;43m'\u001B[39;49m\u001B[43m,\u001B[49m\u001B[43m \u001B[49m\u001B[38;5;124;43m'\u001B[39;49m\u001B[38;5;124;43minline\u001B[39;49m\u001B[38;5;124;43m'\u001B[39;49m\u001B[43m)\u001B[49m\n",
      "File \u001B[1;32mQ:\\Users\\Mathias\\AppData\\Local\\Programs\\Python\\Python311\\Lib\\site-packages\\IPython\\core\\interactiveshell.py:2480\u001B[0m, in \u001B[0;36mInteractiveShell.run_line_magic\u001B[1;34m(self, magic_name, line, _stack_depth)\u001B[0m\n\u001B[0;32m   2478\u001B[0m     kwargs[\u001B[38;5;124m'\u001B[39m\u001B[38;5;124mlocal_ns\u001B[39m\u001B[38;5;124m'\u001B[39m] \u001B[38;5;241m=\u001B[39m \u001B[38;5;28mself\u001B[39m\u001B[38;5;241m.\u001B[39mget_local_scope(stack_depth)\n\u001B[0;32m   2479\u001B[0m \u001B[38;5;28;01mwith\u001B[39;00m \u001B[38;5;28mself\u001B[39m\u001B[38;5;241m.\u001B[39mbuiltin_trap:\n\u001B[1;32m-> 2480\u001B[0m     result \u001B[38;5;241m=\u001B[39m \u001B[43mfn\u001B[49m\u001B[43m(\u001B[49m\u001B[38;5;241;43m*\u001B[39;49m\u001B[43margs\u001B[49m\u001B[43m,\u001B[49m\u001B[43m \u001B[49m\u001B[38;5;241;43m*\u001B[39;49m\u001B[38;5;241;43m*\u001B[39;49m\u001B[43mkwargs\u001B[49m\u001B[43m)\u001B[49m\n\u001B[0;32m   2482\u001B[0m \u001B[38;5;66;03m# The code below prevents the output from being displayed\u001B[39;00m\n\u001B[0;32m   2483\u001B[0m \u001B[38;5;66;03m# when using magics with decorator @output_can_be_silenced\u001B[39;00m\n\u001B[0;32m   2484\u001B[0m \u001B[38;5;66;03m# when the last Python token in the expression is a ';'.\u001B[39;00m\n\u001B[0;32m   2485\u001B[0m \u001B[38;5;28;01mif\u001B[39;00m \u001B[38;5;28mgetattr\u001B[39m(fn, magic\u001B[38;5;241m.\u001B[39mMAGIC_OUTPUT_CAN_BE_SILENCED, \u001B[38;5;28;01mFalse\u001B[39;00m):\n",
      "File \u001B[1;32mQ:\\Users\\Mathias\\AppData\\Local\\Programs\\Python\\Python311\\Lib\\site-packages\\IPython\\core\\magics\\pylab.py:103\u001B[0m, in \u001B[0;36mPylabMagics.matplotlib\u001B[1;34m(self, line)\u001B[0m\n\u001B[0;32m     98\u001B[0m     \u001B[38;5;28mprint\u001B[39m(\n\u001B[0;32m     99\u001B[0m         \u001B[38;5;124m\"\u001B[39m\u001B[38;5;124mAvailable matplotlib backends: \u001B[39m\u001B[38;5;132;01m%s\u001B[39;00m\u001B[38;5;124m\"\u001B[39m\n\u001B[0;32m    100\u001B[0m         \u001B[38;5;241m%\u001B[39m _list_matplotlib_backends_and_gui_loops()\n\u001B[0;32m    101\u001B[0m     )\n\u001B[0;32m    102\u001B[0m \u001B[38;5;28;01melse\u001B[39;00m:\n\u001B[1;32m--> 103\u001B[0m     gui, backend \u001B[38;5;241m=\u001B[39m \u001B[38;5;28;43mself\u001B[39;49m\u001B[38;5;241;43m.\u001B[39;49m\u001B[43mshell\u001B[49m\u001B[38;5;241;43m.\u001B[39;49m\u001B[43menable_matplotlib\u001B[49m\u001B[43m(\u001B[49m\u001B[43margs\u001B[49m\u001B[38;5;241;43m.\u001B[39;49m\u001B[43mgui\u001B[49m\u001B[38;5;241;43m.\u001B[39;49m\u001B[43mlower\u001B[49m\u001B[43m(\u001B[49m\u001B[43m)\u001B[49m\u001B[43m \u001B[49m\u001B[38;5;28;43;01mif\u001B[39;49;00m\u001B[43m \u001B[49m\u001B[38;5;28;43misinstance\u001B[39;49m\u001B[43m(\u001B[49m\u001B[43margs\u001B[49m\u001B[38;5;241;43m.\u001B[39;49m\u001B[43mgui\u001B[49m\u001B[43m,\u001B[49m\u001B[43m \u001B[49m\u001B[38;5;28;43mstr\u001B[39;49m\u001B[43m)\u001B[49m\u001B[43m \u001B[49m\u001B[38;5;28;43;01melse\u001B[39;49;00m\u001B[43m \u001B[49m\u001B[43margs\u001B[49m\u001B[38;5;241;43m.\u001B[39;49m\u001B[43mgui\u001B[49m\u001B[43m)\u001B[49m\n\u001B[0;32m    104\u001B[0m     \u001B[38;5;28mself\u001B[39m\u001B[38;5;241m.\u001B[39m_show_matplotlib_backend(args\u001B[38;5;241m.\u001B[39mgui, backend)\n",
      "File \u001B[1;32mQ:\\Users\\Mathias\\AppData\\Local\\Programs\\Python\\Python311\\Lib\\site-packages\\IPython\\core\\interactiveshell.py:3665\u001B[0m, in \u001B[0;36mInteractiveShell.enable_matplotlib\u001B[1;34m(self, gui)\u001B[0m\n\u001B[0;32m   3662\u001B[0m     \u001B[38;5;28;01mimport\u001B[39;00m \u001B[38;5;21;01mmatplotlib_inline\u001B[39;00m\u001B[38;5;21;01m.\u001B[39;00m\u001B[38;5;21;01mbackend_inline\u001B[39;00m\n\u001B[0;32m   3664\u001B[0m \u001B[38;5;28;01mfrom\u001B[39;00m \u001B[38;5;21;01mIPython\u001B[39;00m\u001B[38;5;21;01m.\u001B[39;00m\u001B[38;5;21;01mcore\u001B[39;00m \u001B[38;5;28;01mimport\u001B[39;00m pylabtools \u001B[38;5;28;01mas\u001B[39;00m pt\n\u001B[1;32m-> 3665\u001B[0m gui, backend \u001B[38;5;241m=\u001B[39m \u001B[43mpt\u001B[49m\u001B[38;5;241;43m.\u001B[39;49m\u001B[43mfind_gui_and_backend\u001B[49m\u001B[43m(\u001B[49m\u001B[43mgui\u001B[49m\u001B[43m,\u001B[49m\u001B[43m \u001B[49m\u001B[38;5;28;43mself\u001B[39;49m\u001B[38;5;241;43m.\u001B[39;49m\u001B[43mpylab_gui_select\u001B[49m\u001B[43m)\u001B[49m\n\u001B[0;32m   3667\u001B[0m \u001B[38;5;28;01mif\u001B[39;00m gui \u001B[38;5;241m!=\u001B[39m \u001B[38;5;28;01mNone\u001B[39;00m:\n\u001B[0;32m   3668\u001B[0m     \u001B[38;5;66;03m# If we have our first gui selection, store it\u001B[39;00m\n\u001B[0;32m   3669\u001B[0m     \u001B[38;5;28;01mif\u001B[39;00m \u001B[38;5;28mself\u001B[39m\u001B[38;5;241m.\u001B[39mpylab_gui_select \u001B[38;5;129;01mis\u001B[39;00m \u001B[38;5;28;01mNone\u001B[39;00m:\n",
      "File \u001B[1;32mQ:\\Users\\Mathias\\AppData\\Local\\Programs\\Python\\Python311\\Lib\\site-packages\\IPython\\core\\pylabtools.py:338\u001B[0m, in \u001B[0;36mfind_gui_and_backend\u001B[1;34m(gui, gui_select)\u001B[0m\n\u001B[0;32m    321\u001B[0m \u001B[38;5;28;01mdef\u001B[39;00m \u001B[38;5;21mfind_gui_and_backend\u001B[39m(gui\u001B[38;5;241m=\u001B[39m\u001B[38;5;28;01mNone\u001B[39;00m, gui_select\u001B[38;5;241m=\u001B[39m\u001B[38;5;28;01mNone\u001B[39;00m):\n\u001B[0;32m    322\u001B[0m \u001B[38;5;250m    \u001B[39m\u001B[38;5;124;03m\"\"\"Given a gui string return the gui and mpl backend.\u001B[39;00m\n\u001B[0;32m    323\u001B[0m \n\u001B[0;32m    324\u001B[0m \u001B[38;5;124;03m    Parameters\u001B[39;00m\n\u001B[1;32m   (...)\u001B[0m\n\u001B[0;32m    335\u001B[0m \u001B[38;5;124;03m    'WXAgg','Qt4Agg','module://matplotlib_inline.backend_inline','agg').\u001B[39;00m\n\u001B[0;32m    336\u001B[0m \u001B[38;5;124;03m    \"\"\"\u001B[39;00m\n\u001B[1;32m--> 338\u001B[0m     \u001B[38;5;28;01mimport\u001B[39;00m \u001B[38;5;21;01mmatplotlib\u001B[39;00m\n\u001B[0;32m    340\u001B[0m     \u001B[38;5;28;01mif\u001B[39;00m _matplotlib_manages_backends():\n\u001B[0;32m    341\u001B[0m         backend_registry \u001B[38;5;241m=\u001B[39m matplotlib\u001B[38;5;241m.\u001B[39mbackends\u001B[38;5;241m.\u001B[39mregistry\u001B[38;5;241m.\u001B[39mbackend_registry\n",
      "\u001B[1;31mModuleNotFoundError\u001B[0m: No module named 'matplotlib'"
     ]
    }
   ],
   "source": [
    "nbins = 256\n",
    "%matplotlib inline"
   ]
  },
  {
   "cell_type": "code",
   "execution_count": 16,
   "id": "7c3715fb-4083-4027-a5d0-0c8487e24a06",
   "metadata": {
    "ExecuteTime": {
     "end_time": "2024-05-09T09:32:47.992164500Z",
     "start_time": "2024-05-09T09:32:47.944355900Z"
    }
   },
   "outputs": [
    {
     "ename": "NameError",
     "evalue": "name 'plt' is not defined",
     "output_type": "error",
     "traceback": [
      "\u001B[1;31m---------------------------------------------------------------------------\u001B[0m",
      "\u001B[1;31mNameError\u001B[0m                                 Traceback (most recent call last)",
      "Cell \u001B[1;32mIn[16], line 1\u001B[0m\n\u001B[1;32m----> 1\u001B[0m \u001B[43mplt\u001B[49m\u001B[38;5;241m.\u001B[39mhist(im_org\u001B[38;5;241m.\u001B[39mravel(), bins\u001B[38;5;241m=\u001B[39mnbins)\n\u001B[0;32m      2\u001B[0m plt\u001B[38;5;241m.\u001B[39mtitle(\u001B[38;5;124m'\u001B[39m\u001B[38;5;124mImage histogram\u001B[39m\u001B[38;5;124m'\u001B[39m)\n\u001B[0;32m      3\u001B[0m io\u001B[38;5;241m.\u001B[39mshow()\n",
      "\u001B[1;31mNameError\u001B[0m: name 'plt' is not defined"
     ]
    }
   ],
   "source": [
    "plt.hist(im_org.ravel(), bins=nbins)\n",
    "plt.title('Image histogram')\n",
    "io.show()"
   ]
  },
  {
   "cell_type": "code",
   "execution_count": 17,
   "id": "b7f1c111-29ec-4f0b-8144-7a312701bead",
   "metadata": {
    "ExecuteTime": {
     "start_time": "2024-05-09T09:32:47.988165500Z"
    }
   },
   "outputs": [
    {
     "ename": "NameError",
     "evalue": "name 'plt' is not defined",
     "output_type": "error",
     "traceback": [
      "\u001B[1;31m---------------------------------------------------------------------------\u001B[0m",
      "\u001B[1;31mNameError\u001B[0m                                 Traceback (most recent call last)",
      "Cell \u001B[1;32mIn[17], line 1\u001B[0m\n\u001B[1;32m----> 1\u001B[0m h \u001B[38;5;241m=\u001B[39m \u001B[43mplt\u001B[49m\u001B[38;5;241m.\u001B[39mhist(im_org\u001B[38;5;241m.\u001B[39mravel(), bins\u001B[38;5;241m=\u001B[39mnbins)\n",
      "\u001B[1;31mNameError\u001B[0m: name 'plt' is not defined"
     ]
    }
   ],
   "source": [
    "h = plt.hist(im_org.ravel(), bins=nbins)"
   ]
  },
  {
   "cell_type": "code",
   "execution_count": 18,
   "id": "9058a9dd-d765-4243-80eb-1a605af548fd",
   "metadata": {
    "ExecuteTime": {
     "end_time": "2024-05-09T09:32:48.095166100Z",
     "start_time": "2024-05-09T09:32:48.044241500Z"
    }
   },
   "outputs": [
    {
     "ename": "NameError",
     "evalue": "name 'h' is not defined",
     "output_type": "error",
     "traceback": [
      "\u001B[1;31m---------------------------------------------------------------------------\u001B[0m",
      "\u001B[1;31mNameError\u001B[0m                                 Traceback (most recent call last)",
      "Cell \u001B[1;32mIn[18], line 2\u001B[0m\n\u001B[0;32m      1\u001B[0m bin_no \u001B[38;5;241m=\u001B[39m \u001B[38;5;241m100\u001B[39m\n\u001B[1;32m----> 2\u001B[0m count \u001B[38;5;241m=\u001B[39m \u001B[43mh\u001B[49m[\u001B[38;5;241m0\u001B[39m][bin_no]\n\u001B[0;32m      3\u001B[0m \u001B[38;5;28mprint\u001B[39m(\u001B[38;5;124mf\u001B[39m\u001B[38;5;124m\"\u001B[39m\u001B[38;5;124mThere are \u001B[39m\u001B[38;5;132;01m{\u001B[39;00mcount\u001B[38;5;132;01m}\u001B[39;00m\u001B[38;5;124m pixel values in bin \u001B[39m\u001B[38;5;132;01m{\u001B[39;00mbin_no\u001B[38;5;132;01m}\u001B[39;00m\u001B[38;5;124m\"\u001B[39m)\n",
      "\u001B[1;31mNameError\u001B[0m: name 'h' is not defined"
     ]
    }
   ],
   "source": [
    "bin_no = 100\n",
    "count = h[0][bin_no]\n",
    "print(f\"There are {count} pixel values in bin {bin_no}\")"
   ]
  },
  {
   "cell_type": "code",
   "execution_count": 19,
   "id": "9b1c3b65-2a05-4861-9cc6-24da075a8c20",
   "metadata": {
    "ExecuteTime": {
     "start_time": "2024-05-09T09:32:48.091659700Z"
    }
   },
   "outputs": [
    {
     "ename": "NameError",
     "evalue": "name 'h' is not defined",
     "output_type": "error",
     "traceback": [
      "\u001B[1;31m---------------------------------------------------------------------------\u001B[0m",
      "\u001B[1;31mNameError\u001B[0m                                 Traceback (most recent call last)",
      "Cell \u001B[1;32mIn[19], line 1\u001B[0m\n\u001B[1;32m----> 1\u001B[0m bin_left \u001B[38;5;241m=\u001B[39m \u001B[43mh\u001B[49m[\u001B[38;5;241m1\u001B[39m][bin_no]\n\u001B[0;32m      2\u001B[0m bin_right \u001B[38;5;241m=\u001B[39m h[\u001B[38;5;241m1\u001B[39m][bin_no \u001B[38;5;241m+\u001B[39m \u001B[38;5;241m1\u001B[39m]\n\u001B[0;32m      3\u001B[0m \u001B[38;5;28mprint\u001B[39m(\u001B[38;5;124mf\u001B[39m\u001B[38;5;124m\"\u001B[39m\u001B[38;5;124mBin edges: \u001B[39m\u001B[38;5;132;01m{\u001B[39;00mbin_left\u001B[38;5;132;01m}\u001B[39;00m\u001B[38;5;124m to \u001B[39m\u001B[38;5;132;01m{\u001B[39;00mbin_right\u001B[38;5;132;01m}\u001B[39;00m\u001B[38;5;124m\"\u001B[39m)\n",
      "\u001B[1;31mNameError\u001B[0m: name 'h' is not defined"
     ]
    }
   ],
   "source": [
    "bin_left = h[1][bin_no]\n",
    "bin_right = h[1][bin_no + 1]\n",
    "print(f\"Bin edges: {bin_left} to {bin_right}\")"
   ]
  },
  {
   "cell_type": "code",
   "execution_count": 20,
   "id": "cbf50c3d-1761-4d58-853a-8476c349ed1b",
   "metadata": {
    "ExecuteTime": {
     "end_time": "2024-05-09T09:32:48.199822400Z",
     "start_time": "2024-05-09T09:32:48.155678200Z"
    }
   },
   "outputs": [
    {
     "ename": "NameError",
     "evalue": "name 'plt' is not defined",
     "output_type": "error",
     "traceback": [
      "\u001B[1;31m---------------------------------------------------------------------------\u001B[0m",
      "\u001B[1;31mNameError\u001B[0m                                 Traceback (most recent call last)",
      "Cell \u001B[1;32mIn[20], line 5\u001B[0m\n\u001B[0;32m      1\u001B[0m \u001B[38;5;66;03m# Since the number of bins match the number of different intensities in the image, it may be confusing.\u001B[39;00m\n\u001B[0;32m      2\u001B[0m \u001B[38;5;66;03m# Max_at represent the bin number, not the most common intensity (although in this case change).\u001B[39;00m\n\u001B[0;32m      3\u001B[0m \u001B[38;5;66;03m# If you do not understand what I mean, Repeat this and exercise 9 using bin_no to 4 and reflect on the results.\u001B[39;00m\n\u001B[1;32m----> 5\u001B[0m y, x, _ \u001B[38;5;241m=\u001B[39m \u001B[43mplt\u001B[49m\u001B[38;5;241m.\u001B[39mhist(im_org\u001B[38;5;241m.\u001B[39mravel(), bins\u001B[38;5;241m=\u001B[39mnbins)\n\u001B[0;32m      6\u001B[0m max_count \u001B[38;5;241m=\u001B[39m y\u001B[38;5;241m.\u001B[39mmax()\n\u001B[0;32m      7\u001B[0m max_at \u001B[38;5;241m=\u001B[39m y\u001B[38;5;241m.\u001B[39margmax()\n",
      "\u001B[1;31mNameError\u001B[0m: name 'plt' is not defined"
     ]
    }
   ],
   "source": [
    "# Since the number of bins match the number of different intensities in the image, it may be confusing.\n",
    "# Max_at represent the bin number, not the most common intensity (although in this case change).\n",
    "# If you do not understand what I mean, Repeat this and exercise 9 using bin_no to 4 and reflect on the results.\n",
    "\n",
    "y, x, _ = plt.hist(im_org.ravel(), bins=nbins)\n",
    "max_count = y.max()\n",
    "max_at = y.argmax()\n",
    "print(f\"Max count: {max_count} at: {max_at}\")"
   ]
  },
  {
   "cell_type": "markdown",
   "id": "7283237b-7da1-44cd-80cb-738e69b02ff2",
   "metadata": {},
   "source": [
    "## Ex 9"
   ]
  },
  {
   "cell_type": "code",
   "execution_count": 21,
   "id": "fc054b9a-607e-4b22-b182-a41af27ed555",
   "metadata": {
    "ExecuteTime": {
     "end_time": "2024-05-09T09:32:48.269962Z",
     "start_time": "2024-05-09T09:32:48.201822300Z"
    }
   },
   "outputs": [
    {
     "ename": "NameError",
     "evalue": "name 'h' is not defined",
     "output_type": "error",
     "traceback": [
      "\u001B[1;31m---------------------------------------------------------------------------\u001B[0m",
      "\u001B[1;31mNameError\u001B[0m                                 Traceback (most recent call last)",
      "Cell \u001B[1;32mIn[21], line 2\u001B[0m\n\u001B[0;32m      1\u001B[0m \u001B[38;5;66;03m# Rather than the position of the maximum count, I want to know the most common range of intensities\u001B[39;00m\n\u001B[1;32m----> 2\u001B[0m bin_left \u001B[38;5;241m=\u001B[39m \u001B[43mh\u001B[49m[\u001B[38;5;241m1\u001B[39m][max_at]\n\u001B[0;32m      3\u001B[0m bin_right \u001B[38;5;241m=\u001B[39m h[\u001B[38;5;241m1\u001B[39m][max_at \u001B[38;5;241m+\u001B[39m \u001B[38;5;241m1\u001B[39m]\n\u001B[0;32m      4\u001B[0m \u001B[38;5;28mprint\u001B[39m(\u001B[38;5;124mf\u001B[39m\u001B[38;5;124m\"\u001B[39m\u001B[38;5;124mBin edges: \u001B[39m\u001B[38;5;132;01m{\u001B[39;00mbin_left\u001B[38;5;132;01m}\u001B[39;00m\u001B[38;5;124m to \u001B[39m\u001B[38;5;132;01m{\u001B[39;00mbin_right\u001B[38;5;132;01m}\u001B[39;00m\u001B[38;5;124m\"\u001B[39m)\n",
      "\u001B[1;31mNameError\u001B[0m: name 'h' is not defined"
     ]
    }
   ],
   "source": [
    "# Rather than the position of the maximum count, I want to know the most common range of intensities\n",
    "bin_left = h[1][max_at]\n",
    "bin_right = h[1][max_at + 1]\n",
    "print(f\"Bin edges: {bin_left} to {bin_right}\")"
   ]
  },
  {
   "cell_type": "markdown",
   "id": "75eee63a-6fb6-403a-8427-d80f78b06772",
   "metadata": {},
   "source": [
    "## Ex 10"
   ]
  },
  {
   "cell_type": "code",
   "execution_count": 22,
   "id": "9b2f1883-5878-4997-b66a-c5845afe9701",
   "metadata": {
    "ExecuteTime": {
     "start_time": "2024-05-09T09:32:48.264456600Z"
    }
   },
   "outputs": [
    {
     "ename": "NameError",
     "evalue": "name 'im_org' is not defined",
     "output_type": "error",
     "traceback": [
      "\u001B[1;31m---------------------------------------------------------------------------\u001B[0m",
      "\u001B[1;31mNameError\u001B[0m                                 Traceback (most recent call last)",
      "Cell \u001B[1;32mIn[22], line 3\u001B[0m\n\u001B[0;32m      1\u001B[0m r \u001B[38;5;241m=\u001B[39m \u001B[38;5;241m100\u001B[39m\n\u001B[0;32m      2\u001B[0m c \u001B[38;5;241m=\u001B[39m \u001B[38;5;241m90\u001B[39m\n\u001B[1;32m----> 3\u001B[0m im_val \u001B[38;5;241m=\u001B[39m \u001B[43mim_org\u001B[49m[r, c]\n\u001B[0;32m      4\u001B[0m \u001B[38;5;28mprint\u001B[39m(\u001B[38;5;124mf\u001B[39m\u001B[38;5;124m\"\u001B[39m\u001B[38;5;124mThe pixel value at (r,c) = (\u001B[39m\u001B[38;5;132;01m{\u001B[39;00mr\u001B[38;5;132;01m}\u001B[39;00m\u001B[38;5;124m, \u001B[39m\u001B[38;5;132;01m{\u001B[39;00mc\u001B[38;5;132;01m}\u001B[39;00m\u001B[38;5;124m) is: \u001B[39m\u001B[38;5;132;01m{\u001B[39;00mim_val\u001B[38;5;132;01m}\u001B[39;00m\u001B[38;5;124m\"\u001B[39m)\n",
      "\u001B[1;31mNameError\u001B[0m: name 'im_org' is not defined"
     ]
    }
   ],
   "source": [
    "r = 100\n",
    "c = 90\n",
    "im_val = im_org[r, c]\n",
    "print(f\"The pixel value at (r,c) = ({r}, {c}) is: {im_val}\")\n"
   ]
  },
  {
   "cell_type": "markdown",
   "id": "3c2dde82-72f5-4dd4-9a61-bdbaa24dbad9",
   "metadata": {},
   "source": [
    "## Ex 11"
   ]
  },
  {
   "cell_type": "code",
   "execution_count": 23,
   "id": "73113fa5-50b8-4e43-92ee-36713540e6d1",
   "metadata": {
    "ExecuteTime": {
     "end_time": "2024-05-09T09:32:48.375544400Z",
     "start_time": "2024-05-09T09:32:48.335081600Z"
    }
   },
   "outputs": [
    {
     "ename": "NameError",
     "evalue": "name 'im_org' is not defined",
     "output_type": "error",
     "traceback": [
      "\u001B[1;31m---------------------------------------------------------------------------\u001B[0m",
      "\u001B[1;31mNameError\u001B[0m                                 Traceback (most recent call last)",
      "Cell \u001B[1;32mIn[23], line 1\u001B[0m\n\u001B[1;32m----> 1\u001B[0m \u001B[43mim_org\u001B[49m[:\u001B[38;5;241m30\u001B[39m] \u001B[38;5;241m=\u001B[39m \u001B[38;5;241m0\u001B[39m\n\u001B[0;32m      2\u001B[0m io\u001B[38;5;241m.\u001B[39mimshow(im_org)\n\u001B[0;32m      3\u001B[0m io\u001B[38;5;241m.\u001B[39mshow()\n",
      "\u001B[1;31mNameError\u001B[0m: name 'im_org' is not defined"
     ]
    }
   ],
   "source": [
    "im_org[:30] = 0\n",
    "io.imshow(im_org)\n",
    "io.show()\n"
   ]
  },
  {
   "cell_type": "markdown",
   "id": "0bad9703-e5b5-4226-bbeb-bb8538c3cb1e",
   "metadata": {},
   "source": [
    "## Ex 12"
   ]
  },
  {
   "cell_type": "code",
   "execution_count": 24,
   "id": "11c351d2-e5f3-440e-a5a1-e6112e751787",
   "metadata": {
    "ExecuteTime": {
     "end_time": "2024-05-09T09:32:48.448787500Z",
     "start_time": "2024-05-09T09:32:48.377044700Z"
    }
   },
   "outputs": [
    {
     "ename": "NameError",
     "evalue": "name 'im_org' is not defined",
     "output_type": "error",
     "traceback": [
      "\u001B[1;31m---------------------------------------------------------------------------\u001B[0m",
      "\u001B[1;31mNameError\u001B[0m                                 Traceback (most recent call last)",
      "Cell \u001B[1;32mIn[24], line 1\u001B[0m\n\u001B[1;32m----> 1\u001B[0m mask \u001B[38;5;241m=\u001B[39m \u001B[43mim_org\u001B[49m \u001B[38;5;241m>\u001B[39m \u001B[38;5;241m150\u001B[39m\n\u001B[0;32m      2\u001B[0m io\u001B[38;5;241m.\u001B[39mimshow(mask)\n\u001B[0;32m      3\u001B[0m io\u001B[38;5;241m.\u001B[39mshow()\n",
      "\u001B[1;31mNameError\u001B[0m: name 'im_org' is not defined"
     ]
    }
   ],
   "source": [
    "mask = im_org > 150\n",
    "io.imshow(mask)\n",
    "io.show()\n"
   ]
  },
  {
   "cell_type": "markdown",
   "id": "251e7a47",
   "metadata": {},
   "source": [
    "## Ex 13"
   ]
  },
  {
   "cell_type": "code",
   "execution_count": 25,
   "id": "7f65feab-e643-41bb-908f-8452bdee8e2f",
   "metadata": {
    "ExecuteTime": {
     "start_time": "2024-05-09T09:32:48.442689100Z"
    }
   },
   "outputs": [
    {
     "ename": "NameError",
     "evalue": "name 'im_org' is not defined",
     "output_type": "error",
     "traceback": [
      "\u001B[1;31m---------------------------------------------------------------------------\u001B[0m",
      "\u001B[1;31mNameError\u001B[0m                                 Traceback (most recent call last)",
      "Cell \u001B[1;32mIn[25], line 1\u001B[0m\n\u001B[1;32m----> 1\u001B[0m \u001B[43mim_org\u001B[49m[mask] \u001B[38;5;241m=\u001B[39m \u001B[38;5;241m255\u001B[39m\n\u001B[0;32m      2\u001B[0m io\u001B[38;5;241m.\u001B[39mimshow(im_org)\n\u001B[0;32m      3\u001B[0m io\u001B[38;5;241m.\u001B[39mshow()\n",
      "\u001B[1;31mNameError\u001B[0m: name 'im_org' is not defined"
     ]
    }
   ],
   "source": [
    "im_org[mask] = 255\n",
    "io.imshow(im_org)\n",
    "io.show()"
   ]
  },
  {
   "cell_type": "markdown",
   "id": "9b1ec6fe-58f7-4705-af67-5f4e91ceffb3",
   "metadata": {},
   "source": [
    "## Ex 14"
   ]
  },
  {
   "cell_type": "code",
   "execution_count": 26,
   "id": "b8e006a4-9cef-4022-9da1-b7c4610a3c20",
   "metadata": {
    "ExecuteTime": {
     "end_time": "2024-05-09T09:32:48.552762300Z",
     "start_time": "2024-05-09T09:32:48.503850900Z"
    }
   },
   "outputs": [
    {
     "ename": "NameError",
     "evalue": "name 'io' is not defined",
     "output_type": "error",
     "traceback": [
      "\u001B[1;31m---------------------------------------------------------------------------\u001B[0m",
      "\u001B[1;31mNameError\u001B[0m                                 Traceback (most recent call last)",
      "Cell \u001B[1;32mIn[26], line 1\u001B[0m\n\u001B[1;32m----> 1\u001B[0m im \u001B[38;5;241m=\u001B[39m \u001B[43mio\u001B[49m\u001B[38;5;241m.\u001B[39mimread(in_dir \u001B[38;5;241m+\u001B[39m \u001B[38;5;124m'\u001B[39m\u001B[38;5;124mardeche.jpg\u001B[39m\u001B[38;5;124m'\u001B[39m)\n\u001B[0;32m      2\u001B[0m \u001B[38;5;28mprint\u001B[39m(im\u001B[38;5;241m.\u001B[39mshape)\n\u001B[0;32m      3\u001B[0m \u001B[38;5;28mprint\u001B[39m(im\u001B[38;5;241m.\u001B[39mdtype)\n",
      "\u001B[1;31mNameError\u001B[0m: name 'io' is not defined"
     ]
    }
   ],
   "source": [
    "im = io.imread(in_dir + 'ardeche.jpg')\n",
    "print(im.shape)\n",
    "print(im.dtype)\n",
    "plt.imshow(im)\n",
    "plt.show()"
   ]
  },
  {
   "cell_type": "markdown",
   "id": "2bfd2ec5",
   "metadata": {},
   "source": [
    "## Ex 15"
   ]
  },
  {
   "cell_type": "code",
   "execution_count": 27,
   "id": "9e0f7d61",
   "metadata": {
    "ExecuteTime": {
     "start_time": "2024-05-09T09:32:48.548258500Z"
    }
   },
   "outputs": [
    {
     "ename": "NameError",
     "evalue": "name 'im' is not defined",
     "output_type": "error",
     "traceback": [
      "\u001B[1;31m---------------------------------------------------------------------------\u001B[0m",
      "\u001B[1;31mNameError\u001B[0m                                 Traceback (most recent call last)",
      "Cell \u001B[1;32mIn[27], line 3\u001B[0m\n\u001B[0;32m      1\u001B[0m r \u001B[38;5;241m=\u001B[39m \u001B[38;5;241m110\u001B[39m\n\u001B[0;32m      2\u001B[0m c \u001B[38;5;241m=\u001B[39m \u001B[38;5;241m90\u001B[39m\n\u001B[1;32m----> 3\u001B[0m \u001B[38;5;28mprint\u001B[39m(\u001B[38;5;124mf\u001B[39m\u001B[38;5;124m\"\u001B[39m\u001B[38;5;124mThe pixel value at (r,c) = (\u001B[39m\u001B[38;5;132;01m{\u001B[39;00mr\u001B[38;5;132;01m}\u001B[39;00m\u001B[38;5;124m, \u001B[39m\u001B[38;5;132;01m{\u001B[39;00mc\u001B[38;5;132;01m}\u001B[39;00m\u001B[38;5;124m) is: \u001B[39m\u001B[38;5;132;01m{\u001B[39;00m\u001B[43mim\u001B[49m[r,\u001B[38;5;250m \u001B[39mc,\u001B[38;5;250m \u001B[39m:]\u001B[38;5;132;01m}\u001B[39;00m\u001B[38;5;124m\"\u001B[39m)\n",
      "\u001B[1;31mNameError\u001B[0m: name 'im' is not defined"
     ]
    }
   ],
   "source": [
    "r = 110\n",
    "c = 90\n",
    "print(f\"The pixel value at (r,c) = ({r}, {c}) is: {im[r, c, :]}\")"
   ]
  },
  {
   "cell_type": "markdown",
   "id": "98cdbe2a-0a38-44da-85d4-a78ddc8ade68",
   "metadata": {},
   "source": [
    "## Ex 16"
   ]
  },
  {
   "cell_type": "code",
   "execution_count": 28,
   "id": "27938e47-9546-499f-b4f4-17972f9465d2",
   "metadata": {
    "ExecuteTime": {
     "end_time": "2024-05-09T09:32:48.660389900Z",
     "start_time": "2024-05-09T09:32:48.610281100Z"
    }
   },
   "outputs": [
    {
     "ename": "NameError",
     "evalue": "name 'np' is not defined",
     "output_type": "error",
     "traceback": [
      "\u001B[1;31m---------------------------------------------------------------------------\u001B[0m",
      "\u001B[1;31mNameError\u001B[0m                                 Traceback (most recent call last)",
      "Cell \u001B[1;32mIn[28], line 1\u001B[0m\n\u001B[1;32m----> 1\u001B[0m r_2, _, _ \u001B[38;5;241m=\u001B[39m \u001B[43mnp\u001B[49m\u001B[38;5;241m.\u001B[39marray(im\u001B[38;5;241m.\u001B[39mshape) \u001B[38;5;241m/\u001B[39m\u001B[38;5;241m/\u001B[39m \u001B[38;5;241m2\u001B[39m\n\u001B[0;32m      2\u001B[0m im[:r_2, :, [\u001B[38;5;241m0\u001B[39m,\u001B[38;5;241m2\u001B[39m]] \u001B[38;5;241m=\u001B[39m \u001B[38;5;241m0\u001B[39m\n\u001B[0;32m      3\u001B[0m plt\u001B[38;5;241m.\u001B[39mimshow(im)\n",
      "\u001B[1;31mNameError\u001B[0m: name 'np' is not defined"
     ]
    }
   ],
   "source": [
    "r_2, _, _ = np.array(im.shape) // 2\n",
    "im[:r_2, :, [0,2]] = 0\n",
    "plt.imshow(im)\n",
    "plt.show()"
   ]
  },
  {
   "cell_type": "markdown",
   "id": "03d0fcd8-4c69-40ab-a217-2bf5dfead6cf",
   "metadata": {},
   "source": [
    "## Ex 17"
   ]
  },
  {
   "cell_type": "code",
   "execution_count": 29,
   "id": "ba7aa8af-9a2b-4540-a6f2-e289fd7e28d7",
   "metadata": {
    "ExecuteTime": {
     "start_time": "2024-05-09T09:32:48.654048600Z"
    }
   },
   "outputs": [
    {
     "ename": "NameError",
     "evalue": "name 'io' is not defined",
     "output_type": "error",
     "traceback": [
      "\u001B[1;31m---------------------------------------------------------------------------\u001B[0m",
      "\u001B[1;31mNameError\u001B[0m                                 Traceback (most recent call last)",
      "Cell \u001B[1;32mIn[29], line 1\u001B[0m\n\u001B[1;32m----> 1\u001B[0m im_org \u001B[38;5;241m=\u001B[39m \u001B[43mio\u001B[49m\u001B[38;5;241m.\u001B[39mimread(in_dir \u001B[38;5;241m+\u001B[39m \u001B[38;5;124m'\u001B[39m\u001B[38;5;124mcar.png\u001B[39m\u001B[38;5;124m'\u001B[39m)\n\u001B[0;32m      2\u001B[0m plt\u001B[38;5;241m.\u001B[39mimshow(im_org)\n\u001B[0;32m      3\u001B[0m plt\u001B[38;5;241m.\u001B[39mshow()\n",
      "\u001B[1;31mNameError\u001B[0m: name 'io' is not defined"
     ]
    }
   ],
   "source": [
    "im_org = io.imread(in_dir + 'car.png')\n",
    "plt.imshow(im_org)\n",
    "plt.show()"
   ]
  },
  {
   "cell_type": "code",
   "execution_count": 30,
   "id": "354353b5-f74c-4919-9ea7-c43c48edbe8a",
   "metadata": {
    "ExecuteTime": {
     "end_time": "2024-05-09T09:32:48.771054800Z",
     "start_time": "2024-05-09T09:32:48.722977Z"
    }
   },
   "outputs": [
    {
     "ename": "NameError",
     "evalue": "name 'rescale' is not defined",
     "output_type": "error",
     "traceback": [
      "\u001B[1;31m---------------------------------------------------------------------------\u001B[0m",
      "\u001B[1;31mNameError\u001B[0m                                 Traceback (most recent call last)",
      "Cell \u001B[1;32mIn[30], line 1\u001B[0m\n\u001B[1;32m----> 1\u001B[0m image_rescaled \u001B[38;5;241m=\u001B[39m \u001B[43mrescale\u001B[49m(im_org, \u001B[38;5;241m0.25\u001B[39m, anti_aliasing\u001B[38;5;241m=\u001B[39m\u001B[38;5;28;01mTrue\u001B[39;00m, channel_axis\u001B[38;5;241m=\u001B[39m\u001B[38;5;241m2\u001B[39m)\n\u001B[0;32m      2\u001B[0m plt\u001B[38;5;241m.\u001B[39mimshow(image_rescaled)\n\u001B[0;32m      3\u001B[0m plt\u001B[38;5;241m.\u001B[39mshow()\n",
      "\u001B[1;31mNameError\u001B[0m: name 'rescale' is not defined"
     ]
    }
   ],
   "source": [
    "image_rescaled = rescale(im_org, 0.25, anti_aliasing=True, channel_axis=2)\n",
    "plt.imshow(image_rescaled)\n",
    "plt.show()\n",
    "\n"
   ]
  },
  {
   "cell_type": "markdown",
   "id": "efe1d999",
   "metadata": {},
   "source": [
    "## Ex 18"
   ]
  },
  {
   "cell_type": "code",
   "execution_count": 31,
   "id": "22be724b",
   "metadata": {
    "ExecuteTime": {
     "start_time": "2024-05-09T09:32:48.767049800Z"
    }
   },
   "outputs": [
    {
     "ename": "NameError",
     "evalue": "name 'image_rescaled' is not defined",
     "output_type": "error",
     "traceback": [
      "\u001B[1;31m---------------------------------------------------------------------------\u001B[0m",
      "\u001B[1;31mNameError\u001B[0m                                 Traceback (most recent call last)",
      "Cell \u001B[1;32mIn[31], line 1\u001B[0m\n\u001B[1;32m----> 1\u001B[0m \u001B[38;5;28mprint\u001B[39m(\u001B[43mimage_rescaled\u001B[49m\u001B[38;5;241m.\u001B[39mdtype)\n\u001B[0;32m      2\u001B[0m \u001B[38;5;28mprint\u001B[39m(image_rescaled\u001B[38;5;241m.\u001B[39mdtype)\n\u001B[0;32m      3\u001B[0m \u001B[38;5;28mprint\u001B[39m(image_rescaled\u001B[38;5;241m.\u001B[39mmax())\n",
      "\u001B[1;31mNameError\u001B[0m: name 'image_rescaled' is not defined"
     ]
    }
   ],
   "source": [
    "print(image_rescaled.dtype)\n",
    "print(image_rescaled.dtype)\n",
    "print(image_rescaled.max())\n",
    "print(image_rescaled.min())"
   ]
  },
  {
   "cell_type": "markdown",
   "id": "68079fd9",
   "metadata": {},
   "source": [
    "## Ex 19"
   ]
  },
  {
   "cell_type": "code",
   "execution_count": 32,
   "id": "a192c721-a50b-4d8a-9b8a-42f12500945c",
   "metadata": {
    "ExecuteTime": {
     "end_time": "2024-05-09T09:32:48.887350100Z",
     "start_time": "2024-05-09T09:32:48.830127100Z"
    }
   },
   "outputs": [
    {
     "ename": "NameError",
     "evalue": "name 'resize' is not defined",
     "output_type": "error",
     "traceback": [
      "\u001B[1;31m---------------------------------------------------------------------------\u001B[0m",
      "\u001B[1;31mNameError\u001B[0m                                 Traceback (most recent call last)",
      "Cell \u001B[1;32mIn[32], line 1\u001B[0m\n\u001B[1;32m----> 1\u001B[0m image_resized \u001B[38;5;241m=\u001B[39m \u001B[43mresize\u001B[49m(im_org, (im_org\u001B[38;5;241m.\u001B[39mshape[\u001B[38;5;241m0\u001B[39m] \u001B[38;5;241m/\u001B[39m\u001B[38;5;241m/\u001B[39m \u001B[38;5;241m4\u001B[39m, im_org\u001B[38;5;241m.\u001B[39mshape[\u001B[38;5;241m1\u001B[39m] \u001B[38;5;241m/\u001B[39m\u001B[38;5;241m/\u001B[39m \u001B[38;5;241m6\u001B[39m), anti_aliasing\u001B[38;5;241m=\u001B[39m\u001B[38;5;28;01mTrue\u001B[39;00m)\n\u001B[0;32m      2\u001B[0m plt\u001B[38;5;241m.\u001B[39mimshow(image_resized)\n\u001B[0;32m      3\u001B[0m plt\u001B[38;5;241m.\u001B[39mshow()\n",
      "\u001B[1;31mNameError\u001B[0m: name 'resize' is not defined"
     ]
    }
   ],
   "source": [
    "image_resized = resize(im_org, (im_org.shape[0] // 4, im_org.shape[1] // 6), anti_aliasing=True)\n",
    "plt.imshow(image_resized)\n",
    "plt.show()"
   ]
  },
  {
   "cell_type": "code",
   "execution_count": 33,
   "id": "87d8ccfa-3446-4f00-a90c-a3d2b864978e",
   "metadata": {
    "ExecuteTime": {
     "start_time": "2024-05-09T09:32:48.879679600Z"
    }
   },
   "outputs": [
    {
     "ename": "NameError",
     "evalue": "name 'im_org' is not defined",
     "output_type": "error",
     "traceback": [
      "\u001B[1;31m---------------------------------------------------------------------------\u001B[0m",
      "\u001B[1;31mNameError\u001B[0m                                 Traceback (most recent call last)",
      "Cell \u001B[1;32mIn[33], line 1\u001B[0m\n\u001B[1;32m----> 1\u001B[0m _, c, _ \u001B[38;5;241m=\u001B[39m \u001B[43mim_org\u001B[49m\u001B[38;5;241m.\u001B[39mshape\n\u001B[0;32m      2\u001B[0m rescale_factor \u001B[38;5;241m=\u001B[39m \u001B[38;5;241m1\u001B[39m \u001B[38;5;241m/\u001B[39m (c \u001B[38;5;241m/\u001B[39m \u001B[38;5;241m400\u001B[39m)\n\u001B[0;32m      4\u001B[0m image_rescaled \u001B[38;5;241m=\u001B[39m rescale(im_org, rescale_factor, anti_aliasing\u001B[38;5;241m=\u001B[39m\u001B[38;5;28;01mTrue\u001B[39;00m, channel_axis\u001B[38;5;241m=\u001B[39m\u001B[38;5;241m2\u001B[39m)\n",
      "\u001B[1;31mNameError\u001B[0m: name 'im_org' is not defined"
     ]
    }
   ],
   "source": [
    "_, c, _ = im_org.shape\n",
    "rescale_factor = 1 / (c / 400)\n",
    "\n",
    "image_rescaled = rescale(im_org, rescale_factor, anti_aliasing=True, channel_axis=2)\n",
    "plt.imshow(image_rescaled)\n",
    "plt.show()"
   ]
  },
  {
   "cell_type": "code",
   "execution_count": 34,
   "id": "341b0962-02fc-45fd-9a41-283b6ad7c78b",
   "metadata": {
    "ExecuteTime": {
     "end_time": "2024-05-09T09:32:49.008124500Z",
     "start_time": "2024-05-09T09:32:48.954935900Z"
    }
   },
   "outputs": [
    {
     "ename": "NameError",
     "evalue": "name 'image_rescaled' is not defined",
     "output_type": "error",
     "traceback": [
      "\u001B[1;31m---------------------------------------------------------------------------\u001B[0m",
      "\u001B[1;31mNameError\u001B[0m                                 Traceback (most recent call last)",
      "Cell \u001B[1;32mIn[34], line 1\u001B[0m\n\u001B[1;32m----> 1\u001B[0m \u001B[38;5;28mprint\u001B[39m(\u001B[43mimage_rescaled\u001B[49m\u001B[38;5;241m.\u001B[39mshape)\n",
      "\u001B[1;31mNameError\u001B[0m: name 'image_rescaled' is not defined"
     ]
    }
   ],
   "source": [
    "print(image_rescaled.shape)"
   ]
  },
  {
   "cell_type": "markdown",
   "id": "f027295d-850d-4590-82df-c6a4b48386fc",
   "metadata": {},
   "source": [
    "## Ex 20"
   ]
  },
  {
   "cell_type": "code",
   "execution_count": 35,
   "id": "08f9193f-2982-4436-8d4e-1b0cf75f9081",
   "metadata": {
    "ExecuteTime": {
     "end_time": "2024-05-09T09:32:49.071117300Z",
     "start_time": "2024-05-09T09:32:49.008667700Z"
    }
   },
   "outputs": [
    {
     "ename": "NameError",
     "evalue": "name 'color' is not defined",
     "output_type": "error",
     "traceback": [
      "\u001B[1;31m---------------------------------------------------------------------------\u001B[0m",
      "\u001B[1;31mNameError\u001B[0m                                 Traceback (most recent call last)",
      "Cell \u001B[1;32mIn[35], line 1\u001B[0m\n\u001B[1;32m----> 1\u001B[0m im_gray \u001B[38;5;241m=\u001B[39m \u001B[43mcolor\u001B[49m\u001B[38;5;241m.\u001B[39mrgb2gray(im_org)\n\u001B[0;32m      2\u001B[0m im_byte \u001B[38;5;241m=\u001B[39m img_as_ubyte(im_gray)\n",
      "\u001B[1;31mNameError\u001B[0m: name 'color' is not defined"
     ]
    }
   ],
   "source": [
    "im_gray = color.rgb2gray(im_org)\n",
    "im_byte = img_as_ubyte(im_gray)"
   ]
  },
  {
   "cell_type": "markdown",
   "id": "3cc5a177-20e4-4fdb-a0a0-ce5a08c70c43",
   "metadata": {},
   "source": [
    "## Ex 21"
   ]
  },
  {
   "cell_type": "code",
   "execution_count": 36,
   "id": "04d896c8-8abf-4c7a-a657-b9fe5b3f7951",
   "metadata": {
    "ExecuteTime": {
     "start_time": "2024-05-09T09:32:49.063789800Z"
    }
   },
   "outputs": [
    {
     "ename": "NameError",
     "evalue": "name 'plt' is not defined",
     "output_type": "error",
     "traceback": [
      "\u001B[1;31m---------------------------------------------------------------------------\u001B[0m",
      "\u001B[1;31mNameError\u001B[0m                                 Traceback (most recent call last)",
      "Cell \u001B[1;32mIn[36], line 1\u001B[0m\n\u001B[1;32m----> 1\u001B[0m \u001B[43mplt\u001B[49m\u001B[38;5;241m.\u001B[39mhist(im_byte\u001B[38;5;241m.\u001B[39mravel(), bins\u001B[38;5;241m=\u001B[39mnbins)\n\u001B[0;32m      2\u001B[0m plt\u001B[38;5;241m.\u001B[39mtitle(\u001B[38;5;124m'\u001B[39m\u001B[38;5;124mImage histogram\u001B[39m\u001B[38;5;124m'\u001B[39m)\n\u001B[0;32m      3\u001B[0m io\u001B[38;5;241m.\u001B[39mshow()\n",
      "\u001B[1;31mNameError\u001B[0m: name 'plt' is not defined"
     ]
    }
   ],
   "source": [
    "plt.hist(im_byte.ravel(), bins=nbins)\n",
    "plt.title('Image histogram')\n",
    "io.show()"
   ]
  },
  {
   "cell_type": "markdown",
   "id": "506ca630-ff02-4e39-9413-1c332280ee90",
   "metadata": {},
   "source": [
    "## Ex 22 and 23"
   ]
  },
  {
   "cell_type": "code",
   "execution_count": 37,
   "id": "8e331f89-77ff-4788-bafc-86f261722cd0",
   "metadata": {
    "ExecuteTime": {
     "end_time": "2024-05-09T09:32:49.182082600Z",
     "start_time": "2024-05-09T09:32:49.107691400Z"
    }
   },
   "outputs": [
    {
     "ename": "NameError",
     "evalue": "name 'io' is not defined",
     "output_type": "error",
     "traceback": [
      "\u001B[1;31m---------------------------------------------------------------------------\u001B[0m",
      "\u001B[1;31mNameError\u001B[0m                                 Traceback (most recent call last)",
      "Cell \u001B[1;32mIn[37], line 1\u001B[0m\n\u001B[1;32m----> 1\u001B[0m im_org \u001B[38;5;241m=\u001B[39m \u001B[43mio\u001B[49m\u001B[38;5;241m.\u001B[39mimread(in_dir \u001B[38;5;241m+\u001B[39m \u001B[38;5;124m'\u001B[39m\u001B[38;5;124mDTUSign1.jpg\u001B[39m\u001B[38;5;124m'\u001B[39m)\n\u001B[0;32m      2\u001B[0m plt\u001B[38;5;241m.\u001B[39mimshow(im_org)\n\u001B[0;32m      3\u001B[0m plt\u001B[38;5;241m.\u001B[39mshow()\n",
      "\u001B[1;31mNameError\u001B[0m: name 'io' is not defined"
     ]
    }
   ],
   "source": [
    "im_org = io.imread(in_dir + 'DTUSign1.jpg')\n",
    "plt.imshow(im_org)\n",
    "plt.show()"
   ]
  },
  {
   "cell_type": "code",
   "execution_count": 38,
   "id": "18c0d86d-8bcb-409f-abe1-1392cbdb2bdd",
   "metadata": {
    "ExecuteTime": {
     "start_time": "2024-05-09T09:32:49.178576100Z"
    }
   },
   "outputs": [
    {
     "ename": "NameError",
     "evalue": "name 'plt' is not defined",
     "output_type": "error",
     "traceback": [
      "\u001B[1;31m---------------------------------------------------------------------------\u001B[0m",
      "\u001B[1;31mNameError\u001B[0m                                 Traceback (most recent call last)",
      "Cell \u001B[1;32mIn[38], line 1\u001B[0m\n\u001B[1;32m----> 1\u001B[0m fig, ax \u001B[38;5;241m=\u001B[39m \u001B[43mplt\u001B[49m\u001B[38;5;241m.\u001B[39msubplots(nrows \u001B[38;5;241m=\u001B[39m \u001B[38;5;241m1\u001B[39m, ncols \u001B[38;5;241m=\u001B[39m \u001B[38;5;241m3\u001B[39m, figsize \u001B[38;5;241m=\u001B[39m (\u001B[38;5;241m15\u001B[39m,\u001B[38;5;241m10\u001B[39m))\n\u001B[0;32m      2\u001B[0m ax[\u001B[38;5;241m0\u001B[39m]\u001B[38;5;241m.\u001B[39mimshow(im_org[:,:,\u001B[38;5;241m0\u001B[39m], cmap \u001B[38;5;241m=\u001B[39m \u001B[38;5;124m'\u001B[39m\u001B[38;5;124mgray\u001B[39m\u001B[38;5;124m'\u001B[39m)\n\u001B[0;32m      3\u001B[0m ax[\u001B[38;5;241m0\u001B[39m]\u001B[38;5;241m.\u001B[39mset_title(\u001B[38;5;124m'\u001B[39m\u001B[38;5;124mRed channel\u001B[39m\u001B[38;5;124m'\u001B[39m)\n",
      "\u001B[1;31mNameError\u001B[0m: name 'plt' is not defined"
     ]
    }
   ],
   "source": [
    "fig, ax = plt.subplots(nrows = 1, ncols = 3, figsize = (15,10))\n",
    "ax[0].imshow(im_org[:,:,0], cmap = 'gray')\n",
    "ax[0].set_title('Red channel')\n",
    "ax[1].imshow(im_org[:,:,1], cmap = 'gray')\n",
    "ax[1].set_title('Green channel')\n",
    "ax[2].imshow(im_org[:,:,2], cmap = 'gray')\n",
    "ax[2].set_title('Blue channel')\n",
    "plt.show()"
   ]
  },
  {
   "cell_type": "markdown",
   "id": "ad1f238f-56fd-4e5d-94f6-9894a1338563",
   "metadata": {},
   "source": [
    "## Ex 24"
   ]
  },
  {
   "cell_type": "code",
   "execution_count": 39,
   "id": "e73c1c0b-2d94-4b1f-a5f3-689926214bda",
   "metadata": {
    "ExecuteTime": {
     "end_time": "2024-05-09T09:32:49.285681300Z",
     "start_time": "2024-05-09T09:32:49.220119100Z"
    }
   },
   "outputs": [
    {
     "ename": "NameError",
     "evalue": "name 'im_org' is not defined",
     "output_type": "error",
     "traceback": [
      "\u001B[1;31m---------------------------------------------------------------------------\u001B[0m",
      "\u001B[1;31mNameError\u001B[0m                                 Traceback (most recent call last)",
      "Cell \u001B[1;32mIn[39], line 3\u001B[0m\n\u001B[0;32m      1\u001B[0m out_dir \u001B[38;5;241m=\u001B[39m \u001B[38;5;124m'\u001B[39m\u001B[38;5;124mresults/\u001B[39m\u001B[38;5;124m'\u001B[39m\n\u001B[0;32m      2\u001B[0m os\u001B[38;5;241m.\u001B[39mmakedirs(out_dir, exist_ok\u001B[38;5;241m=\u001B[39m\u001B[38;5;28;01mTrue\u001B[39;00m)\n\u001B[1;32m----> 3\u001B[0m \u001B[43mim_org\u001B[49m[\u001B[38;5;241m500\u001B[39m:\u001B[38;5;241m1000\u001B[39m, \u001B[38;5;241m800\u001B[39m:\u001B[38;5;241m1500\u001B[39m, :] \u001B[38;5;241m=\u001B[39m \u001B[38;5;241m0\u001B[39m\n",
      "\u001B[1;31mNameError\u001B[0m: name 'im_org' is not defined"
     ]
    }
   ],
   "source": [
    "out_dir = 'results/'\n",
    "os.makedirs(out_dir, exist_ok=True)\n",
    "im_org[500:1000, 800:1500, :] = 0"
   ]
  },
  {
   "cell_type": "markdown",
   "id": "f0194c59",
   "metadata": {},
   "source": [
    "## Ex 25"
   ]
  },
  {
   "cell_type": "code",
   "execution_count": 40,
   "id": "6ce0e320",
   "metadata": {
    "ExecuteTime": {
     "start_time": "2024-05-09T09:32:49.281672100Z"
    }
   },
   "outputs": [
    {
     "ename": "NameError",
     "evalue": "name 'io' is not defined",
     "output_type": "error",
     "traceback": [
      "\u001B[1;31m---------------------------------------------------------------------------\u001B[0m",
      "\u001B[1;31mNameError\u001B[0m                                 Traceback (most recent call last)",
      "Cell \u001B[1;32mIn[40], line 1\u001B[0m\n\u001B[1;32m----> 1\u001B[0m \u001B[43mio\u001B[49m\u001B[38;5;241m.\u001B[39mimsave(out_dir \u001B[38;5;241m+\u001B[39m \u001B[38;5;124m'\u001B[39m\u001B[38;5;124mDTUSign1-marked.jpg\u001B[39m\u001B[38;5;124m'\u001B[39m, im_org)\n\u001B[0;32m      2\u001B[0m io\u001B[38;5;241m.\u001B[39mimsave(out_dir \u001B[38;5;241m+\u001B[39m \u001B[38;5;124m'\u001B[39m\u001B[38;5;124mDTUSign1-marked.png\u001B[39m\u001B[38;5;124m'\u001B[39m, im_org)\n\u001B[0;32m      3\u001B[0m io\u001B[38;5;241m.\u001B[39mimsave(out_dir \u001B[38;5;241m+\u001B[39m \u001B[38;5;124m'\u001B[39m\u001B[38;5;124mDTUSign1-marked.tif\u001B[39m\u001B[38;5;124m'\u001B[39m, im_org)\n",
      "\u001B[1;31mNameError\u001B[0m: name 'io' is not defined"
     ]
    }
   ],
   "source": [
    "io.imsave(out_dir + 'DTUSign1-marked.jpg', im_org)\n",
    "io.imsave(out_dir + 'DTUSign1-marked.png', im_org)\n",
    "io.imsave(out_dir + 'DTUSign1-marked.tif', im_org)"
   ]
  },
  {
   "cell_type": "markdown",
   "id": "b5da631d-dccd-4e48-a531-5150407c4915",
   "metadata": {},
   "source": [
    "## Ex 26"
   ]
  },
  {
   "cell_type": "code",
   "execution_count": 41,
   "id": "dc06b0a1-7f14-4ba1-9962-36fc1a8e794d",
   "metadata": {
    "ExecuteTime": {
     "end_time": "2024-05-09T09:32:49.406096500Z",
     "start_time": "2024-05-09T09:32:49.324663900Z"
    }
   },
   "outputs": [
    {
     "ename": "NameError",
     "evalue": "name 'io' is not defined",
     "output_type": "error",
     "traceback": [
      "\u001B[1;31m---------------------------------------------------------------------------\u001B[0m",
      "\u001B[1;31mNameError\u001B[0m                                 Traceback (most recent call last)",
      "Cell \u001B[1;32mIn[41], line 1\u001B[0m\n\u001B[1;32m----> 1\u001B[0m im_org \u001B[38;5;241m=\u001B[39m \u001B[43mio\u001B[49m\u001B[38;5;241m.\u001B[39mimread(in_dir \u001B[38;5;241m+\u001B[39m \u001B[38;5;124m'\u001B[39m\u001B[38;5;124mDTUSign1.jpg\u001B[39m\u001B[38;5;124m'\u001B[39m)\n\u001B[0;32m      2\u001B[0m im_copy \u001B[38;5;241m=\u001B[39m im_org\u001B[38;5;241m.\u001B[39mcopy()\n\u001B[0;32m      3\u001B[0m im_copy[\u001B[38;5;241m1500\u001B[39m:\u001B[38;5;241m2000\u001B[39m, \u001B[38;5;241m2000\u001B[39m:\u001B[38;5;241m3000\u001B[39m, :] \u001B[38;5;241m=\u001B[39m \u001B[38;5;241m0\u001B[39m\n",
      "\u001B[1;31mNameError\u001B[0m: name 'io' is not defined"
     ]
    }
   ],
   "source": [
    "im_org = io.imread(in_dir + 'DTUSign1.jpg')\n",
    "im_copy = im_org.copy()\n",
    "im_copy[1500:2000, 2000:3000, :] = 0\n",
    "im_copy[1500:2000, 2000:3000, 2] = 255\n",
    "im_copy[1505:1995, 2005:2995, :] = im_org[1505:1995, 2005:2995, :]\n",
    "\n",
    "io.imsave(out_dir + 'DTUSign1-marked_blue.jpg', im_copy)"
   ]
  },
  {
   "cell_type": "markdown",
   "id": "9ef8b5e9-9ec0-4e82-8882-00190a6e2741",
   "metadata": {},
   "source": [
    "## Ex 27"
   ]
  },
  {
   "cell_type": "code",
   "execution_count": 42,
   "id": "39ebb940-a641-4575-806b-76869a2f67da",
   "metadata": {
    "ExecuteTime": {
     "start_time": "2024-05-09T09:32:49.399724600Z"
    }
   },
   "outputs": [
    {
     "ename": "NameError",
     "evalue": "name 'io' is not defined",
     "output_type": "error",
     "traceback": [
      "\u001B[1;31m---------------------------------------------------------------------------\u001B[0m",
      "\u001B[1;31mNameError\u001B[0m                                 Traceback (most recent call last)",
      "Cell \u001B[1;32mIn[42], line 1\u001B[0m\n\u001B[1;32m----> 1\u001B[0m im_org \u001B[38;5;241m=\u001B[39m \u001B[43mio\u001B[49m\u001B[38;5;241m.\u001B[39mimread(in_dir \u001B[38;5;241m+\u001B[39m \u001B[38;5;124m'\u001B[39m\u001B[38;5;124mmetacarpals.png\u001B[39m\u001B[38;5;124m'\u001B[39m)\n\u001B[0;32m      3\u001B[0m mask \u001B[38;5;241m=\u001B[39m im_org \u001B[38;5;241m>\u001B[39m \u001B[38;5;241m140\u001B[39m\n\u001B[0;32m      4\u001B[0m im_rgb \u001B[38;5;241m=\u001B[39m color\u001B[38;5;241m.\u001B[39mgray2rgb(im_org)\n",
      "\u001B[1;31mNameError\u001B[0m: name 'io' is not defined"
     ]
    }
   ],
   "source": [
    "im_org = io.imread(in_dir + 'metacarpals.png')\n",
    "\n",
    "mask = im_org > 140\n",
    "im_rgb = color.gray2rgb(im_org)\n",
    "im_rgb[mask, 0] = 0\n",
    "im_rgb[mask, 1] = 0\n",
    "im_rgb[mask, 2] = 255\n",
    "\n",
    "plt.imshow(im_rgb)\n",
    "io.show()"
   ]
  },
  {
   "cell_type": "markdown",
   "id": "e333d058-623c-4b38-aae2-487b6217db42",
   "metadata": {},
   "source": [
    "## Ex 28"
   ]
  },
  {
   "cell_type": "code",
   "execution_count": 43,
   "id": "c8174874-bffd-445d-aaaa-2abf2772fa02",
   "metadata": {
    "ExecuteTime": {
     "end_time": "2024-05-09T09:32:49.524656900Z",
     "start_time": "2024-05-09T09:32:49.443133900Z"
    }
   },
   "outputs": [
    {
     "ename": "NameError",
     "evalue": "name 'io' is not defined",
     "output_type": "error",
     "traceback": [
      "\u001B[1;31m---------------------------------------------------------------------------\u001B[0m",
      "\u001B[1;31mNameError\u001B[0m                                 Traceback (most recent call last)",
      "Cell \u001B[1;32mIn[43], line 1\u001B[0m\n\u001B[1;32m----> 1\u001B[0m im_org \u001B[38;5;241m=\u001B[39m \u001B[43mio\u001B[49m\u001B[38;5;241m.\u001B[39mimread(in_dir \u001B[38;5;241m+\u001B[39m \u001B[38;5;124m'\u001B[39m\u001B[38;5;124mmetacarpals.png\u001B[39m\u001B[38;5;124m'\u001B[39m)\n\u001B[0;32m      2\u001B[0m p \u001B[38;5;241m=\u001B[39m profile_line(im_org, (\u001B[38;5;241m342\u001B[39m, \u001B[38;5;241m77\u001B[39m), (\u001B[38;5;241m320\u001B[39m, \u001B[38;5;241m160\u001B[39m))\n\u001B[0;32m      3\u001B[0m plt\u001B[38;5;241m.\u001B[39mplot(p)\n",
      "\u001B[1;31mNameError\u001B[0m: name 'io' is not defined"
     ]
    }
   ],
   "source": [
    "im_org = io.imread(in_dir + 'metacarpals.png')\n",
    "p = profile_line(im_org, (342, 77), (320, 160))\n",
    "plt.plot(p)\n",
    "plt.ylabel('Intensity')\n",
    "plt.xlabel('Distance along line')\n",
    "plt.show()"
   ]
  },
  {
   "cell_type": "code",
   "execution_count": 44,
   "id": "a05b383a-52e9-44f0-bbbc-69f08eb66a3a",
   "metadata": {
    "ExecuteTime": {
     "start_time": "2024-05-09T09:32:49.517653100Z"
    }
   },
   "outputs": [
    {
     "ename": "NameError",
     "evalue": "name 'plt' is not defined",
     "output_type": "error",
     "traceback": [
      "\u001B[1;31m---------------------------------------------------------------------------\u001B[0m",
      "\u001B[1;31mNameError\u001B[0m                                 Traceback (most recent call last)",
      "Cell \u001B[1;32mIn[44], line 1\u001B[0m\n\u001B[1;32m----> 1\u001B[0m \u001B[43mplt\u001B[49m\u001B[38;5;241m.\u001B[39mimshow(im_org, cmap \u001B[38;5;241m=\u001B[39m \u001B[38;5;124m'\u001B[39m\u001B[38;5;124mgray\u001B[39m\u001B[38;5;124m'\u001B[39m)\n\u001B[0;32m      2\u001B[0m plt\u001B[38;5;241m.\u001B[39mplot([\u001B[38;5;241m77\u001B[39m, \u001B[38;5;241m160\u001B[39m], [\u001B[38;5;241m342\u001B[39m, \u001B[38;5;241m320\u001B[39m], c \u001B[38;5;241m=\u001B[39m \u001B[38;5;124m'\u001B[39m\u001B[38;5;124mr\u001B[39m\u001B[38;5;124m'\u001B[39m)\n\u001B[0;32m      3\u001B[0m io\u001B[38;5;241m.\u001B[39mshow()\n",
      "\u001B[1;31mNameError\u001B[0m: name 'plt' is not defined"
     ]
    }
   ],
   "source": [
    "plt.imshow(im_org, cmap = 'gray')\n",
    "plt.plot([77, 160], [342, 320], c = 'r')\n",
    "io.show()"
   ]
  },
  {
   "cell_type": "code",
   "execution_count": 45,
   "id": "9ca16d1b-f4ed-4c2c-854f-1b747af75f86",
   "metadata": {
    "ExecuteTime": {
     "end_time": "2024-05-09T09:32:49.634793600Z",
     "start_time": "2024-05-09T09:32:49.563185Z"
    }
   },
   "outputs": [
    {
     "ename": "ModuleNotFoundError",
     "evalue": "No module named 'matplotlib'",
     "output_type": "error",
     "traceback": [
      "\u001B[1;31m---------------------------------------------------------------------------\u001B[0m",
      "\u001B[1;31mModuleNotFoundError\u001B[0m                       Traceback (most recent call last)",
      "Cell \u001B[1;32mIn[45], line 1\u001B[0m\n\u001B[1;32m----> 1\u001B[0m \u001B[43mget_ipython\u001B[49m\u001B[43m(\u001B[49m\u001B[43m)\u001B[49m\u001B[38;5;241;43m.\u001B[39;49m\u001B[43mrun_line_magic\u001B[49m\u001B[43m(\u001B[49m\u001B[38;5;124;43m'\u001B[39;49m\u001B[38;5;124;43mmatplotlib\u001B[39;49m\u001B[38;5;124;43m'\u001B[39;49m\u001B[43m,\u001B[49m\u001B[43m \u001B[49m\u001B[38;5;124;43m'\u001B[39;49m\u001B[38;5;124;43mwidget\u001B[39;49m\u001B[38;5;124;43m'\u001B[39;49m\u001B[43m)\u001B[49m\n\u001B[0;32m      3\u001B[0m in_dir \u001B[38;5;241m=\u001B[39m \u001B[38;5;124m\"\u001B[39m\u001B[38;5;124mdata/\u001B[39m\u001B[38;5;124m\"\u001B[39m\n\u001B[0;32m      4\u001B[0m im_name \u001B[38;5;241m=\u001B[39m \u001B[38;5;124m\"\u001B[39m\u001B[38;5;124mroad.png\u001B[39m\u001B[38;5;124m\"\u001B[39m\n",
      "File \u001B[1;32mQ:\\Users\\Mathias\\AppData\\Local\\Programs\\Python\\Python311\\Lib\\site-packages\\IPython\\core\\interactiveshell.py:2480\u001B[0m, in \u001B[0;36mInteractiveShell.run_line_magic\u001B[1;34m(self, magic_name, line, _stack_depth)\u001B[0m\n\u001B[0;32m   2478\u001B[0m     kwargs[\u001B[38;5;124m'\u001B[39m\u001B[38;5;124mlocal_ns\u001B[39m\u001B[38;5;124m'\u001B[39m] \u001B[38;5;241m=\u001B[39m \u001B[38;5;28mself\u001B[39m\u001B[38;5;241m.\u001B[39mget_local_scope(stack_depth)\n\u001B[0;32m   2479\u001B[0m \u001B[38;5;28;01mwith\u001B[39;00m \u001B[38;5;28mself\u001B[39m\u001B[38;5;241m.\u001B[39mbuiltin_trap:\n\u001B[1;32m-> 2480\u001B[0m     result \u001B[38;5;241m=\u001B[39m \u001B[43mfn\u001B[49m\u001B[43m(\u001B[49m\u001B[38;5;241;43m*\u001B[39;49m\u001B[43margs\u001B[49m\u001B[43m,\u001B[49m\u001B[43m \u001B[49m\u001B[38;5;241;43m*\u001B[39;49m\u001B[38;5;241;43m*\u001B[39;49m\u001B[43mkwargs\u001B[49m\u001B[43m)\u001B[49m\n\u001B[0;32m   2482\u001B[0m \u001B[38;5;66;03m# The code below prevents the output from being displayed\u001B[39;00m\n\u001B[0;32m   2483\u001B[0m \u001B[38;5;66;03m# when using magics with decorator @output_can_be_silenced\u001B[39;00m\n\u001B[0;32m   2484\u001B[0m \u001B[38;5;66;03m# when the last Python token in the expression is a ';'.\u001B[39;00m\n\u001B[0;32m   2485\u001B[0m \u001B[38;5;28;01mif\u001B[39;00m \u001B[38;5;28mgetattr\u001B[39m(fn, magic\u001B[38;5;241m.\u001B[39mMAGIC_OUTPUT_CAN_BE_SILENCED, \u001B[38;5;28;01mFalse\u001B[39;00m):\n",
      "File \u001B[1;32mQ:\\Users\\Mathias\\AppData\\Local\\Programs\\Python\\Python311\\Lib\\site-packages\\IPython\\core\\magics\\pylab.py:103\u001B[0m, in \u001B[0;36mPylabMagics.matplotlib\u001B[1;34m(self, line)\u001B[0m\n\u001B[0;32m     98\u001B[0m     \u001B[38;5;28mprint\u001B[39m(\n\u001B[0;32m     99\u001B[0m         \u001B[38;5;124m\"\u001B[39m\u001B[38;5;124mAvailable matplotlib backends: \u001B[39m\u001B[38;5;132;01m%s\u001B[39;00m\u001B[38;5;124m\"\u001B[39m\n\u001B[0;32m    100\u001B[0m         \u001B[38;5;241m%\u001B[39m _list_matplotlib_backends_and_gui_loops()\n\u001B[0;32m    101\u001B[0m     )\n\u001B[0;32m    102\u001B[0m \u001B[38;5;28;01melse\u001B[39;00m:\n\u001B[1;32m--> 103\u001B[0m     gui, backend \u001B[38;5;241m=\u001B[39m \u001B[38;5;28;43mself\u001B[39;49m\u001B[38;5;241;43m.\u001B[39;49m\u001B[43mshell\u001B[49m\u001B[38;5;241;43m.\u001B[39;49m\u001B[43menable_matplotlib\u001B[49m\u001B[43m(\u001B[49m\u001B[43margs\u001B[49m\u001B[38;5;241;43m.\u001B[39;49m\u001B[43mgui\u001B[49m\u001B[38;5;241;43m.\u001B[39;49m\u001B[43mlower\u001B[49m\u001B[43m(\u001B[49m\u001B[43m)\u001B[49m\u001B[43m \u001B[49m\u001B[38;5;28;43;01mif\u001B[39;49;00m\u001B[43m \u001B[49m\u001B[38;5;28;43misinstance\u001B[39;49m\u001B[43m(\u001B[49m\u001B[43margs\u001B[49m\u001B[38;5;241;43m.\u001B[39;49m\u001B[43mgui\u001B[49m\u001B[43m,\u001B[49m\u001B[43m \u001B[49m\u001B[38;5;28;43mstr\u001B[39;49m\u001B[43m)\u001B[49m\u001B[43m \u001B[49m\u001B[38;5;28;43;01melse\u001B[39;49;00m\u001B[43m \u001B[49m\u001B[43margs\u001B[49m\u001B[38;5;241;43m.\u001B[39;49m\u001B[43mgui\u001B[49m\u001B[43m)\u001B[49m\n\u001B[0;32m    104\u001B[0m     \u001B[38;5;28mself\u001B[39m\u001B[38;5;241m.\u001B[39m_show_matplotlib_backend(args\u001B[38;5;241m.\u001B[39mgui, backend)\n",
      "File \u001B[1;32mQ:\\Users\\Mathias\\AppData\\Local\\Programs\\Python\\Python311\\Lib\\site-packages\\IPython\\core\\interactiveshell.py:3665\u001B[0m, in \u001B[0;36mInteractiveShell.enable_matplotlib\u001B[1;34m(self, gui)\u001B[0m\n\u001B[0;32m   3662\u001B[0m     \u001B[38;5;28;01mimport\u001B[39;00m \u001B[38;5;21;01mmatplotlib_inline\u001B[39;00m\u001B[38;5;21;01m.\u001B[39;00m\u001B[38;5;21;01mbackend_inline\u001B[39;00m\n\u001B[0;32m   3664\u001B[0m \u001B[38;5;28;01mfrom\u001B[39;00m \u001B[38;5;21;01mIPython\u001B[39;00m\u001B[38;5;21;01m.\u001B[39;00m\u001B[38;5;21;01mcore\u001B[39;00m \u001B[38;5;28;01mimport\u001B[39;00m pylabtools \u001B[38;5;28;01mas\u001B[39;00m pt\n\u001B[1;32m-> 3665\u001B[0m gui, backend \u001B[38;5;241m=\u001B[39m \u001B[43mpt\u001B[49m\u001B[38;5;241;43m.\u001B[39;49m\u001B[43mfind_gui_and_backend\u001B[49m\u001B[43m(\u001B[49m\u001B[43mgui\u001B[49m\u001B[43m,\u001B[49m\u001B[43m \u001B[49m\u001B[38;5;28;43mself\u001B[39;49m\u001B[38;5;241;43m.\u001B[39;49m\u001B[43mpylab_gui_select\u001B[49m\u001B[43m)\u001B[49m\n\u001B[0;32m   3667\u001B[0m \u001B[38;5;28;01mif\u001B[39;00m gui \u001B[38;5;241m!=\u001B[39m \u001B[38;5;28;01mNone\u001B[39;00m:\n\u001B[0;32m   3668\u001B[0m     \u001B[38;5;66;03m# If we have our first gui selection, store it\u001B[39;00m\n\u001B[0;32m   3669\u001B[0m     \u001B[38;5;28;01mif\u001B[39;00m \u001B[38;5;28mself\u001B[39m\u001B[38;5;241m.\u001B[39mpylab_gui_select \u001B[38;5;129;01mis\u001B[39;00m \u001B[38;5;28;01mNone\u001B[39;00m:\n",
      "File \u001B[1;32mQ:\\Users\\Mathias\\AppData\\Local\\Programs\\Python\\Python311\\Lib\\site-packages\\IPython\\core\\pylabtools.py:338\u001B[0m, in \u001B[0;36mfind_gui_and_backend\u001B[1;34m(gui, gui_select)\u001B[0m\n\u001B[0;32m    321\u001B[0m \u001B[38;5;28;01mdef\u001B[39;00m \u001B[38;5;21mfind_gui_and_backend\u001B[39m(gui\u001B[38;5;241m=\u001B[39m\u001B[38;5;28;01mNone\u001B[39;00m, gui_select\u001B[38;5;241m=\u001B[39m\u001B[38;5;28;01mNone\u001B[39;00m):\n\u001B[0;32m    322\u001B[0m \u001B[38;5;250m    \u001B[39m\u001B[38;5;124;03m\"\"\"Given a gui string return the gui and mpl backend.\u001B[39;00m\n\u001B[0;32m    323\u001B[0m \n\u001B[0;32m    324\u001B[0m \u001B[38;5;124;03m    Parameters\u001B[39;00m\n\u001B[1;32m   (...)\u001B[0m\n\u001B[0;32m    335\u001B[0m \u001B[38;5;124;03m    'WXAgg','Qt4Agg','module://matplotlib_inline.backend_inline','agg').\u001B[39;00m\n\u001B[0;32m    336\u001B[0m \u001B[38;5;124;03m    \"\"\"\u001B[39;00m\n\u001B[1;32m--> 338\u001B[0m     \u001B[38;5;28;01mimport\u001B[39;00m \u001B[38;5;21;01mmatplotlib\u001B[39;00m\n\u001B[0;32m    340\u001B[0m     \u001B[38;5;28;01mif\u001B[39;00m _matplotlib_manages_backends():\n\u001B[0;32m    341\u001B[0m         backend_registry \u001B[38;5;241m=\u001B[39m matplotlib\u001B[38;5;241m.\u001B[39mbackends\u001B[38;5;241m.\u001B[39mregistry\u001B[38;5;241m.\u001B[39mbackend_registry\n",
      "\u001B[1;31mModuleNotFoundError\u001B[0m: No module named 'matplotlib'"
     ]
    }
   ],
   "source": [
    "%matplotlib widget\n",
    "\n",
    "in_dir = \"data/\"\n",
    "im_name = \"road.png\"\n",
    "im_org = io.imread(in_dir + im_name)\n",
    "im_gray = color.rgb2gray(im_org)\n",
    "ll = 200\n",
    "im_crop = im_gray[40:40 + ll, 150:150 + ll]\n",
    "xx, yy = np.mgrid[0:im_crop.shape[0], 0:im_crop.shape[1]]\n",
    "fig, ax = plt.subplots(subplot_kw={\"projection\": \"3d\"})\n",
    "surf = ax.plot_surface(xx, yy, im_crop, rstride=1, cstride=1, cmap=plt.cm.jet,\n",
    "linewidth=0)\n",
    "fig.colorbar(surf, shrink=0.5, aspect=5)\n",
    "plt.show()"
   ]
  },
  {
   "cell_type": "markdown",
   "id": "90bb01eb-a04e-4e4f-a797-0e8581c43b39",
   "metadata": {},
   "source": [
    "## Ex 29"
   ]
  },
  {
   "cell_type": "code",
   "execution_count": 46,
   "id": "063ab6e5-008c-4ba7-9dc9-0404deb677c0",
   "metadata": {
    "ExecuteTime": {
     "start_time": "2024-05-09T09:32:49.629282500Z"
    }
   },
   "outputs": [
    {
     "ename": "ModuleNotFoundError",
     "evalue": "No module named 'matplotlib'",
     "output_type": "error",
     "traceback": [
      "\u001B[1;31m---------------------------------------------------------------------------\u001B[0m",
      "\u001B[1;31mModuleNotFoundError\u001B[0m                       Traceback (most recent call last)",
      "Cell \u001B[1;32mIn[46], line 1\u001B[0m\n\u001B[1;32m----> 1\u001B[0m \u001B[43mget_ipython\u001B[49m\u001B[43m(\u001B[49m\u001B[43m)\u001B[49m\u001B[38;5;241;43m.\u001B[39;49m\u001B[43mrun_line_magic\u001B[49m\u001B[43m(\u001B[49m\u001B[38;5;124;43m'\u001B[39;49m\u001B[38;5;124;43mmatplotlib\u001B[39;49m\u001B[38;5;124;43m'\u001B[39;49m\u001B[43m,\u001B[49m\u001B[43m \u001B[49m\u001B[38;5;124;43m'\u001B[39;49m\u001B[38;5;124;43minline\u001B[39;49m\u001B[38;5;124;43m'\u001B[39;49m\u001B[43m)\u001B[49m\n\u001B[0;32m      3\u001B[0m in_dir \u001B[38;5;241m=\u001B[39m \u001B[38;5;124m\"\u001B[39m\u001B[38;5;124mdata/\u001B[39m\u001B[38;5;124m\"\u001B[39m\n\u001B[0;32m      4\u001B[0m im_name \u001B[38;5;241m=\u001B[39m \u001B[38;5;124m\"\u001B[39m\u001B[38;5;124m1-442.dcm\u001B[39m\u001B[38;5;124m\"\u001B[39m\n",
      "File \u001B[1;32mQ:\\Users\\Mathias\\AppData\\Local\\Programs\\Python\\Python311\\Lib\\site-packages\\IPython\\core\\interactiveshell.py:2480\u001B[0m, in \u001B[0;36mInteractiveShell.run_line_magic\u001B[1;34m(self, magic_name, line, _stack_depth)\u001B[0m\n\u001B[0;32m   2478\u001B[0m     kwargs[\u001B[38;5;124m'\u001B[39m\u001B[38;5;124mlocal_ns\u001B[39m\u001B[38;5;124m'\u001B[39m] \u001B[38;5;241m=\u001B[39m \u001B[38;5;28mself\u001B[39m\u001B[38;5;241m.\u001B[39mget_local_scope(stack_depth)\n\u001B[0;32m   2479\u001B[0m \u001B[38;5;28;01mwith\u001B[39;00m \u001B[38;5;28mself\u001B[39m\u001B[38;5;241m.\u001B[39mbuiltin_trap:\n\u001B[1;32m-> 2480\u001B[0m     result \u001B[38;5;241m=\u001B[39m \u001B[43mfn\u001B[49m\u001B[43m(\u001B[49m\u001B[38;5;241;43m*\u001B[39;49m\u001B[43margs\u001B[49m\u001B[43m,\u001B[49m\u001B[43m \u001B[49m\u001B[38;5;241;43m*\u001B[39;49m\u001B[38;5;241;43m*\u001B[39;49m\u001B[43mkwargs\u001B[49m\u001B[43m)\u001B[49m\n\u001B[0;32m   2482\u001B[0m \u001B[38;5;66;03m# The code below prevents the output from being displayed\u001B[39;00m\n\u001B[0;32m   2483\u001B[0m \u001B[38;5;66;03m# when using magics with decorator @output_can_be_silenced\u001B[39;00m\n\u001B[0;32m   2484\u001B[0m \u001B[38;5;66;03m# when the last Python token in the expression is a ';'.\u001B[39;00m\n\u001B[0;32m   2485\u001B[0m \u001B[38;5;28;01mif\u001B[39;00m \u001B[38;5;28mgetattr\u001B[39m(fn, magic\u001B[38;5;241m.\u001B[39mMAGIC_OUTPUT_CAN_BE_SILENCED, \u001B[38;5;28;01mFalse\u001B[39;00m):\n",
      "File \u001B[1;32mQ:\\Users\\Mathias\\AppData\\Local\\Programs\\Python\\Python311\\Lib\\site-packages\\IPython\\core\\magics\\pylab.py:103\u001B[0m, in \u001B[0;36mPylabMagics.matplotlib\u001B[1;34m(self, line)\u001B[0m\n\u001B[0;32m     98\u001B[0m     \u001B[38;5;28mprint\u001B[39m(\n\u001B[0;32m     99\u001B[0m         \u001B[38;5;124m\"\u001B[39m\u001B[38;5;124mAvailable matplotlib backends: \u001B[39m\u001B[38;5;132;01m%s\u001B[39;00m\u001B[38;5;124m\"\u001B[39m\n\u001B[0;32m    100\u001B[0m         \u001B[38;5;241m%\u001B[39m _list_matplotlib_backends_and_gui_loops()\n\u001B[0;32m    101\u001B[0m     )\n\u001B[0;32m    102\u001B[0m \u001B[38;5;28;01melse\u001B[39;00m:\n\u001B[1;32m--> 103\u001B[0m     gui, backend \u001B[38;5;241m=\u001B[39m \u001B[38;5;28;43mself\u001B[39;49m\u001B[38;5;241;43m.\u001B[39;49m\u001B[43mshell\u001B[49m\u001B[38;5;241;43m.\u001B[39;49m\u001B[43menable_matplotlib\u001B[49m\u001B[43m(\u001B[49m\u001B[43margs\u001B[49m\u001B[38;5;241;43m.\u001B[39;49m\u001B[43mgui\u001B[49m\u001B[38;5;241;43m.\u001B[39;49m\u001B[43mlower\u001B[49m\u001B[43m(\u001B[49m\u001B[43m)\u001B[49m\u001B[43m \u001B[49m\u001B[38;5;28;43;01mif\u001B[39;49;00m\u001B[43m \u001B[49m\u001B[38;5;28;43misinstance\u001B[39;49m\u001B[43m(\u001B[49m\u001B[43margs\u001B[49m\u001B[38;5;241;43m.\u001B[39;49m\u001B[43mgui\u001B[49m\u001B[43m,\u001B[49m\u001B[43m \u001B[49m\u001B[38;5;28;43mstr\u001B[39;49m\u001B[43m)\u001B[49m\u001B[43m \u001B[49m\u001B[38;5;28;43;01melse\u001B[39;49;00m\u001B[43m \u001B[49m\u001B[43margs\u001B[49m\u001B[38;5;241;43m.\u001B[39;49m\u001B[43mgui\u001B[49m\u001B[43m)\u001B[49m\n\u001B[0;32m    104\u001B[0m     \u001B[38;5;28mself\u001B[39m\u001B[38;5;241m.\u001B[39m_show_matplotlib_backend(args\u001B[38;5;241m.\u001B[39mgui, backend)\n",
      "File \u001B[1;32mQ:\\Users\\Mathias\\AppData\\Local\\Programs\\Python\\Python311\\Lib\\site-packages\\IPython\\core\\interactiveshell.py:3665\u001B[0m, in \u001B[0;36mInteractiveShell.enable_matplotlib\u001B[1;34m(self, gui)\u001B[0m\n\u001B[0;32m   3662\u001B[0m     \u001B[38;5;28;01mimport\u001B[39;00m \u001B[38;5;21;01mmatplotlib_inline\u001B[39;00m\u001B[38;5;21;01m.\u001B[39;00m\u001B[38;5;21;01mbackend_inline\u001B[39;00m\n\u001B[0;32m   3664\u001B[0m \u001B[38;5;28;01mfrom\u001B[39;00m \u001B[38;5;21;01mIPython\u001B[39;00m\u001B[38;5;21;01m.\u001B[39;00m\u001B[38;5;21;01mcore\u001B[39;00m \u001B[38;5;28;01mimport\u001B[39;00m pylabtools \u001B[38;5;28;01mas\u001B[39;00m pt\n\u001B[1;32m-> 3665\u001B[0m gui, backend \u001B[38;5;241m=\u001B[39m \u001B[43mpt\u001B[49m\u001B[38;5;241;43m.\u001B[39;49m\u001B[43mfind_gui_and_backend\u001B[49m\u001B[43m(\u001B[49m\u001B[43mgui\u001B[49m\u001B[43m,\u001B[49m\u001B[43m \u001B[49m\u001B[38;5;28;43mself\u001B[39;49m\u001B[38;5;241;43m.\u001B[39;49m\u001B[43mpylab_gui_select\u001B[49m\u001B[43m)\u001B[49m\n\u001B[0;32m   3667\u001B[0m \u001B[38;5;28;01mif\u001B[39;00m gui \u001B[38;5;241m!=\u001B[39m \u001B[38;5;28;01mNone\u001B[39;00m:\n\u001B[0;32m   3668\u001B[0m     \u001B[38;5;66;03m# If we have our first gui selection, store it\u001B[39;00m\n\u001B[0;32m   3669\u001B[0m     \u001B[38;5;28;01mif\u001B[39;00m \u001B[38;5;28mself\u001B[39m\u001B[38;5;241m.\u001B[39mpylab_gui_select \u001B[38;5;129;01mis\u001B[39;00m \u001B[38;5;28;01mNone\u001B[39;00m:\n",
      "File \u001B[1;32mQ:\\Users\\Mathias\\AppData\\Local\\Programs\\Python\\Python311\\Lib\\site-packages\\IPython\\core\\pylabtools.py:338\u001B[0m, in \u001B[0;36mfind_gui_and_backend\u001B[1;34m(gui, gui_select)\u001B[0m\n\u001B[0;32m    321\u001B[0m \u001B[38;5;28;01mdef\u001B[39;00m \u001B[38;5;21mfind_gui_and_backend\u001B[39m(gui\u001B[38;5;241m=\u001B[39m\u001B[38;5;28;01mNone\u001B[39;00m, gui_select\u001B[38;5;241m=\u001B[39m\u001B[38;5;28;01mNone\u001B[39;00m):\n\u001B[0;32m    322\u001B[0m \u001B[38;5;250m    \u001B[39m\u001B[38;5;124;03m\"\"\"Given a gui string return the gui and mpl backend.\u001B[39;00m\n\u001B[0;32m    323\u001B[0m \n\u001B[0;32m    324\u001B[0m \u001B[38;5;124;03m    Parameters\u001B[39;00m\n\u001B[1;32m   (...)\u001B[0m\n\u001B[0;32m    335\u001B[0m \u001B[38;5;124;03m    'WXAgg','Qt4Agg','module://matplotlib_inline.backend_inline','agg').\u001B[39;00m\n\u001B[0;32m    336\u001B[0m \u001B[38;5;124;03m    \"\"\"\u001B[39;00m\n\u001B[1;32m--> 338\u001B[0m     \u001B[38;5;28;01mimport\u001B[39;00m \u001B[38;5;21;01mmatplotlib\u001B[39;00m\n\u001B[0;32m    340\u001B[0m     \u001B[38;5;28;01mif\u001B[39;00m _matplotlib_manages_backends():\n\u001B[0;32m    341\u001B[0m         backend_registry \u001B[38;5;241m=\u001B[39m matplotlib\u001B[38;5;241m.\u001B[39mbackends\u001B[38;5;241m.\u001B[39mregistry\u001B[38;5;241m.\u001B[39mbackend_registry\n",
      "\u001B[1;31mModuleNotFoundError\u001B[0m: No module named 'matplotlib'"
     ]
    }
   ],
   "source": [
    "%matplotlib inline\n",
    "\n",
    "in_dir = \"data/\"\n",
    "im_name = \"1-442.dcm\"\n",
    "ds = dicom.dcmread(in_dir + im_name)\n",
    "print(ds)"
   ]
  },
  {
   "cell_type": "markdown",
   "id": "cab21c3b-af19-4e82-a228-ad2e018f28e8",
   "metadata": {},
   "source": [
    "## Ex 29"
   ]
  },
  {
   "cell_type": "code",
   "execution_count": 47,
   "id": "3b79436c-9354-492b-a9ca-f9b5ae48e6e6",
   "metadata": {
    "ExecuteTime": {
     "end_time": "2024-05-09T09:32:49.738901500Z",
     "start_time": "2024-05-09T09:32:49.669802100Z"
    }
   },
   "outputs": [
    {
     "ename": "NameError",
     "evalue": "name 'ds' is not defined",
     "output_type": "error",
     "traceback": [
      "\u001B[1;31m---------------------------------------------------------------------------\u001B[0m",
      "\u001B[1;31mNameError\u001B[0m                                 Traceback (most recent call last)",
      "Cell \u001B[1;32mIn[47], line 1\u001B[0m\n\u001B[1;32m----> 1\u001B[0m im \u001B[38;5;241m=\u001B[39m \u001B[43mds\u001B[49m\u001B[38;5;241m.\u001B[39mpixel_array\n",
      "\u001B[1;31mNameError\u001B[0m: name 'ds' is not defined"
     ]
    }
   ],
   "source": [
    "im = ds.pixel_array"
   ]
  },
  {
   "cell_type": "markdown",
   "id": "2944ee63-7605-4a0b-a6a1-7b1cf948645e",
   "metadata": {},
   "source": [
    "## Ex 30"
   ]
  },
  {
   "cell_type": "code",
   "execution_count": 48,
   "id": "7d0415b3",
   "metadata": {
    "ExecuteTime": {
     "start_time": "2024-05-09T09:32:49.732701400Z"
    }
   },
   "outputs": [
    {
     "ename": "NameError",
     "evalue": "name 'im' is not defined",
     "output_type": "error",
     "traceback": [
      "\u001B[1;31m---------------------------------------------------------------------------\u001B[0m",
      "\u001B[1;31mNameError\u001B[0m                                 Traceback (most recent call last)",
      "Cell \u001B[1;32mIn[48], line 1\u001B[0m\n\u001B[1;32m----> 1\u001B[0m \u001B[38;5;28mprint\u001B[39m(\u001B[43mim\u001B[49m\u001B[38;5;241m.\u001B[39mshape)\n\u001B[0;32m      2\u001B[0m \u001B[38;5;28mprint\u001B[39m(im\u001B[38;5;241m.\u001B[39mdtype)\n",
      "\u001B[1;31mNameError\u001B[0m: name 'im' is not defined"
     ]
    }
   ],
   "source": [
    "print(im.shape)\n",
    "print(im.dtype)"
   ]
  },
  {
   "cell_type": "code",
   "execution_count": 49,
   "id": "90c0c22a-ca10-40e5-a1cb-9092f73cad7d",
   "metadata": {
    "ExecuteTime": {
     "end_time": "2024-05-09T09:32:49.850069200Z",
     "start_time": "2024-05-09T09:32:49.776470900Z"
    }
   },
   "outputs": [
    {
     "ename": "NameError",
     "evalue": "name 'plt' is not defined",
     "output_type": "error",
     "traceback": [
      "\u001B[1;31m---------------------------------------------------------------------------\u001B[0m",
      "\u001B[1;31mNameError\u001B[0m                                 Traceback (most recent call last)",
      "Cell \u001B[1;32mIn[49], line 1\u001B[0m\n\u001B[1;32m----> 1\u001B[0m \u001B[43mplt\u001B[49m\u001B[38;5;241m.\u001B[39mimshow(im, vmin\u001B[38;5;241m=\u001B[39m\u001B[38;5;241m-\u001B[39m\u001B[38;5;241m1000\u001B[39m, vmax\u001B[38;5;241m=\u001B[39m\u001B[38;5;241m1000\u001B[39m, cmap\u001B[38;5;241m=\u001B[39m\u001B[38;5;124m'\u001B[39m\u001B[38;5;124mgray\u001B[39m\u001B[38;5;124m'\u001B[39m)\n\u001B[0;32m      2\u001B[0m plt\u001B[38;5;241m.\u001B[39mshow()\n",
      "\u001B[1;31mNameError\u001B[0m: name 'plt' is not defined"
     ]
    }
   ],
   "source": [
    "plt.imshow(im, vmin=-1000, vmax=1000, cmap='gray')\n",
    "plt.show()"
   ]
  }
 ],
 "metadata": {
  "kernelspec": {
   "display_name": "course02502",
   "language": "python",
   "name": "python3"
  },
  "language_info": {
   "codemirror_mode": {
    "name": "ipython",
    "version": 3
   },
   "file_extension": ".py",
   "mimetype": "text/x-python",
   "name": "python",
   "nbconvert_exporter": "python",
   "pygments_lexer": "ipython3",
   "version": "3.11.0"
  },
  "vscode": {
   "interpreter": {
    "hash": "aaa37d571780f8e299c57f2240e07ee74169eb0295e974283a771ca95e4c15b5"
   }
  }
 },
 "nbformat": 4,
 "nbformat_minor": 5
}
