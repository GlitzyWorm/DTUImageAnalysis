{
 "cells": [
  {
   "cell_type": "markdown",
   "metadata": {},
   "source": [
    "# Exercise 5 - BLOB Analysis"
   ]
  },
  {
   "cell_type": "code",
   "execution_count": 1,
   "metadata": {},
   "source": [
    "from skimage import io, color, morphology\n",
    "from skimage.util import img_as_float, img_as_ubyte\n",
    "import matplotlib.pyplot as plt\n",
    "import numpy as np\n",
    "from skimage.filters import threshold_otsu\n",
    "from skimage import segmentation\n",
    "from skimage import measure\n",
    "from skimage.color import label2rgb"
   ],
   "outputs": []
  },
  {
   "cell_type": "code",
   "execution_count": 2,
   "metadata": {},
   "source": [
    "def show_comparison(original, modified, modified_name):\n",
    "    fig, (ax1, ax2) = plt.subplots(ncols=2, figsize=(8, 4), sharex=True,\n",
    "                                   sharey=True)\n",
    "    ax1.imshow(original)\n",
    "    ax1.set_title('Original')\n",
    "    ax1.axis('off')\n",
    "    ax2.imshow(modified)\n",
    "    ax2.set_title(modified_name)\n",
    "    ax2.axis('off')\n",
    "    io.show()"
   ],
   "outputs": []
  },
  {
   "cell_type": "markdown",
   "metadata": {},
   "source": [
    "## LEGO Classification"
   ]
  },
  {
   "cell_type": "markdown",
   "metadata": {},
   "source": [
    "### Exercise 1"
   ]
  },
  {
   "cell_type": "code",
   "execution_count": 3,
   "metadata": {},
   "source": [
    "in_dir = 'data/'\n",
    "im_org = io.imread(f'{in_dir}lego_4_small.png')\n",
    "im_gray = color.rgb2gray(im_org)\n",
    "thres = threshold_otsu(im_gray)\n",
    "im_bin = im_gray < thres\n",
    "\n",
    "show_comparison(im_org, im_bin, 'Binary image')"
   ],
   "outputs": []
  },
  {
   "cell_type": "markdown",
   "metadata": {},
   "source": [
    "### Exercise 2"
   ]
  },
  {
   "cell_type": "code",
   "execution_count": 4,
   "metadata": {},
   "source": [
    "im_process = segmentation.clear_border(im_bin)"
   ],
   "outputs": []
  },
  {
   "cell_type": "markdown",
   "metadata": {},
   "source": [
    "### Exercise 3"
   ]
  },
  {
   "cell_type": "code",
   "execution_count": 5,
   "metadata": {},
   "source": [
    "footprint = morphology.disk(5)\n",
    "im_process = morphology.binary_closing(im_process, footprint)\n",
    "im_open = morphology.binary_opening(im_process, footprint)"
   ],
   "outputs": []
  },
  {
   "cell_type": "markdown",
   "metadata": {},
   "source": [
    "### Exercise 4"
   ]
  },
  {
   "cell_type": "code",
   "execution_count": 6,
   "metadata": {},
   "source": [
    "label_img = measure.label(im_open)\n",
    "n_labels = label_img.max()\n",
    "print(f\"Number of labels: {n_labels}\")"
   ],
   "outputs": []
  },
  {
   "cell_type": "markdown",
   "metadata": {},
   "source": [
    "### Exercise 5"
   ]
  },
  {
   "cell_type": "code",
   "execution_count": 7,
   "metadata": {},
   "source": [
    "im_blob = label2rgb(label_img)\n",
    "show_comparison(im_org, im_blob, 'BLOBS')"
   ],
   "outputs": []
  },
  {
   "cell_type": "markdown",
   "metadata": {},
   "source": [
    "### Exercise 6"
   ]
  },
  {
   "cell_type": "code",
   "execution_count": 8,
   "metadata": {},
   "source": [
    "region_props = measure.regionprops(label_img)\n",
    "areas = np.array([prop.area for prop in region_props])\n",
    "plt.hist(areas, bins=50)\n",
    "plt.show()"
   ],
   "outputs": []
  },
  {
   "cell_type": "markdown",
   "metadata": {},
   "source": [
    "### Exercise 7"
   ]
  },
  {
   "cell_type": "code",
   "execution_count": 10,
   "metadata": {},
   "source": [
    "!python Ex5-BlobAnalysisInteractive.py"
   ],
   "outputs": []
  },
  {
   "cell_type": "markdown",
   "metadata": {},
   "source": [
    "## Cell counting"
   ]
  },
  {
   "cell_type": "code",
   "execution_count": 11,
   "metadata": {},
   "source": [
    "in_dir = \"data/\"\n",
    "img_org = io.imread(in_dir + 'Sample E2 - U2OS DAPI channel.tiff')\n",
    "# slice to extract smaller image\n",
    "img_small = img_org[700:1200, 900:1400]\n",
    "img_gray = img_as_ubyte(img_small) \n",
    "io.imshow(img_gray, vmin=0, vmax=150)\n",
    "plt.title('DAPI Stained U2OS cell nuclei')\n",
    "io.show()"
   ],
   "outputs": []
  },
  {
   "cell_type": "code",
   "execution_count": 12,
   "metadata": {},
   "source": [
    "# avoid bin with value 0 due to the very large number of background pixels\n",
    "plt.hist(img_gray.ravel(), bins=256, range=(1, 100))\n",
    "io.show()"
   ],
   "outputs": []
  },
  {
   "cell_type": "markdown",
   "metadata": {},
   "source": [
    "### Exercise 8"
   ]
  },
  {
   "cell_type": "code",
   "execution_count": 13,
   "metadata": {},
   "source": [
    "thres = threshold_otsu(img_gray)\n",
    "img_bin = img_gray > thres\n",
    "show_comparison(img_gray, img_bin, 'binary')"
   ],
   "outputs": []
  },
  {
   "cell_type": "markdown",
   "metadata": {},
   "source": [
    "### Exercise 9"
   ]
  },
  {
   "cell_type": "code",
   "execution_count": 14,
   "metadata": {},
   "source": [
    "img_c_b = segmentation.clear_border(img_bin)"
   ],
   "outputs": []
  },
  {
   "cell_type": "code",
   "execution_count": 15,
   "metadata": {},
   "source": [
    "label_img = measure.label(img_c_b)\n",
    "image_label_overlay = label2rgb(label_img)\n",
    "show_comparison(img_gray, image_label_overlay, 'Found BLOBS')"
   ],
   "outputs": []
  },
  {
   "cell_type": "markdown",
   "metadata": {},
   "source": [
    "### Exercise 10"
   ]
  },
  {
   "cell_type": "code",
   "execution_count": 16,
   "metadata": {},
   "source": [
    "region_props = measure.regionprops(label_img)\n",
    "areas = np.array([prop.area for prop in region_props])"
   ],
   "outputs": []
  },
  {
   "cell_type": "code",
   "execution_count": 17,
   "metadata": {},
   "source": [
    "plt.hist(areas, bins=50)\n",
    "plt.show()"
   ],
   "outputs": []
  },
  {
   "cell_type": "markdown",
   "metadata": {},
   "source": [
    "### Exercise 11"
   ]
  },
  {
   "cell_type": "code",
   "execution_count": 18,
   "metadata": {},
   "source": [
    "min_area = 10 \n",
    "max_area = 150\n",
    "\n",
    "# Create a copy of the label_img\n",
    "label_img_filter = label_img\n",
    "for region in region_props:\n",
    "\t# Find the areas that do not fit our criteria\n",
    "\tif region.area > max_area or region.area < min_area:\n",
    "\t\t# set the pixels in the invalid areas to background\n",
    "\t\tfor cords in region.coords:\n",
    "\t\t\tlabel_img_filter[cords[0], cords[1]] = 0\n",
    "# Create binary image from the filtered label image\n",
    "i_area = label_img_filter > 0\n",
    "show_comparison(img_small, i_area, 'Found nuclei based on area')"
   ],
   "outputs": []
  },
  {
   "cell_type": "markdown",
   "metadata": {},
   "source": [
    "### Exercise 12"
   ]
  },
  {
   "cell_type": "code",
   "execution_count": 19,
   "metadata": {},
   "source": [
    "perimeters = np.array([prop.perimeter for prop in region_props])\n",
    "\n",
    "fig, ax = plt.subplots(1,1)\n",
    "ax.plot(areas, perimeters, '.')\n",
    "ax.set_xlabel('Areas (px)')\n",
    "ax.set_ylabel('Perimeter (px)')\n",
    "plt.show()"
   ],
   "outputs": []
  },
  {
   "cell_type": "markdown",
   "metadata": {},
   "source": [
    "### Exercise 13"
   ]
  },
  {
   "cell_type": "code",
   "execution_count": 20,
   "metadata": {},
   "source": [
    "def circularity(area, perimeter):\n",
    "    '''\n",
    "    You may get values larger than 1 because\n",
    "    we are in a \"discrete\" (pixels) domain. Check:\n",
    "\n",
    "    CIRCULARITY OF OBJECTS IN IMAGES, Botterma, M.J. (2000)\n",
    "    https://core.ac.uk/download/pdf/14946814.pdf\n",
    "    '''\n",
    "    f_circ = (4*np.pi*area)/(perimeter**2)\n",
    "    return f_circ\n",
    "\n",
    "circs = circularity(areas, perimeters)"
   ],
   "outputs": []
  },
  {
   "cell_type": "code",
   "execution_count": 21,
   "metadata": {},
   "source": [
    "plt.hist(circs, bins=50)\n",
    "plt.show()"
   ],
   "outputs": []
  },
  {
   "cell_type": "code",
   "execution_count": 22,
   "metadata": {},
   "source": [
    "min_circ = 0.7\n",
    "min_area = 10 \n",
    "max_area = 150\n",
    "\n",
    "# Create a copy of the label_img\n",
    "label_img_filter = label_img\n",
    "for region in region_props:\n",
    "\tcirc = circularity(region.area, region.perimeter)\n",
    "\t# Find the areas that do not fit our criteria\n",
    "\tif region.area > max_area or region.area < min_area or circ < min_circ:\n",
    "\t\t# set the pixels in the invalid areas to background\n",
    "\t\tfor cords in region.coords:\n",
    "\t\t\tlabel_img_filter[cords[0], cords[1]] = 0\n",
    "\n",
    "# Create binary image from the filtered label image\n",
    "i_area = label_img_filter > 0\n",
    "show_comparison(img_small, i_area, 'Found nuclei based on area and circularity')"
   ],
   "outputs": []
  },
  {
   "cell_type": "markdown",
   "metadata": {},
   "source": [
    "### Exercise 14"
   ]
  },
  {
   "cell_type": "code",
   "execution_count": 23,
   "metadata": {},
   "source": [
    "fig, ax = plt.subplots(1,1)\n",
    "ax.plot(areas, circs, '.')\n",
    "ax.set_xlabel('Areas (px)')\n",
    "ax.set_ylabel('Circularity')\n",
    "plt.show()"
   ],
   "outputs": []
  },
  {
   "cell_type": "code",
   "execution_count": 24,
   "metadata": {},
   "source": [
    "def cell_counting(img_gray, min_area = 10, max_area = 150, min_circ = 0.7):\n",
    "\n",
    "    # Binarization\n",
    "    thres = threshold_otsu(img_gray)\n",
    "    img_bin = img_gray > thres\n",
    "    img_c_b = segmentation.clear_border(img_bin)\n",
    "\n",
    "    # Label image\n",
    "    label_img = measure.label(img_c_b)\n",
    "\n",
    "    # Extract properties\n",
    "    region_props = measure.regionprops(label_img)\n",
    "\n",
    "    # Number of blobs\n",
    "    n_nuclei = len(region_props)\n",
    "    \n",
    "    # Filter the label image\n",
    "    label_img_filter = label_img.copy()\n",
    "    for region in region_props:\n",
    "        circ = circularity(region.area, region.perimeter)\n",
    "        # Find the areas that do not fit our criteria\n",
    "        if region.area > max_area or region.area < min_area or circ < min_circ:\n",
    "            # set the pixels in the invalid areas to background\n",
    "            n_nuclei = n_nuclei - 1\n",
    "            for cords in region.coords:\n",
    "                label_img_filter[cords[0], cords[1]] = 0\n",
    "\n",
    "    # Create binary image from the filtered label image\n",
    "    i_area = label_img_filter > 0\n",
    "\n",
    "    return i_area, n_nuclei"
   ],
   "outputs": []
  },
  {
   "cell_type": "markdown",
   "metadata": {},
   "source": [
    "### Exercise 15"
   ]
  },
  {
   "cell_type": "code",
   "execution_count": 25,
   "metadata": {},
   "source": [
    "def im2patch(im, patch_size=[256,256]):\n",
    "    \"\"\"\n",
    "    Fancy function to rearrange an image into patches (Not important).\n",
    "    \n",
    "    Arguments:\n",
    "        image: a 2D image, shape (r,c).\n",
    "        patch size: size of extracted paches.\n",
    "    Returns:\n",
    "        patches: a 3D array which in every 3rd dimension has a patch associated \n",
    "    \"\"\"\n",
    "    \n",
    "    r,c = im.shape\n",
    "    s0, s1 = im.strides    \n",
    "    nrows =r-patch_size[0]+1\n",
    "    ncols = c-patch_size[1]+1\n",
    "    shp = patch_size[0],patch_size[1],nrows,ncols\n",
    "    strd = s0,s1,s0,s1\n",
    "\n",
    "    out_view = np.lib.stride_tricks.as_strided(im, shape=shp, strides=strd)\n",
    "    out_view = out_view[:,:,::patch_size[0],::patch_size[1]].reshape(patch_size[0],patch_size[1],-1)\n",
    "    return out_view"
   ],
   "outputs": []
  },
  {
   "cell_type": "code",
   "execution_count": 26,
   "metadata": {},
   "source": [
    "in_dir = \"data/\"\n",
    "img_org = io.imread(in_dir + 'Sample E2 - U2OS DAPI channel.tiff')\n",
    "img_gray = img_as_ubyte(img_org)"
   ],
   "outputs": []
  },
  {
   "cell_type": "code",
   "execution_count": 27,
   "metadata": {},
   "source": [
    "patches = im2patch(img_gray, patch_size=[300,300])\n",
    "print(f'Number of patches {patches.shape[-1]}')\n",
    "\n",
    "for idx_patch in range(6):\n",
    "    patch = patches[:,:,idx_patch]\n",
    "    filt_label, n_nuclei = cell_counting(patch)\n",
    "    show_comparison(patch, filt_label, f'Found nuclei: {n_nuclei}')"
   ],
   "outputs": []
  },
  {
   "cell_type": "markdown",
   "metadata": {},
   "source": [
    "### Exercise 16"
   ]
  },
  {
   "cell_type": "code",
   "execution_count": 28,
   "metadata": {},
   "source": [
    "img_org = io.imread(in_dir + 'Sample G1 - COS7 cells DAPI channel.tiff')\n",
    "img_gray = img_as_ubyte(img_org)\n",
    "\n",
    "patches = im2patch(img_gray, patch_size=[300,300])\n",
    "print(f'Number of patches {patches.shape[-1]}')\n",
    "\n",
    "for idx_patch in range(6):\n",
    "    patch = patches[:,:,idx_patch]\n",
    "    filt_label, n_nuclei = cell_counting(patch)\n",
    "    show_comparison(patch, filt_label,  f'Found nuclei: {n_nuclei}')"
   ],
   "outputs": []
  },
  {
   "cell_type": "markdown",
   "metadata": {},
   "source": [
    "### Exercise 17"
   ]
  },
  {
   "cell_type": "code",
   "execution_count": 29,
   "metadata": {},
   "source": [
    "def cell_counting_ex17(img_gray, opening_sz = 5, min_area = 10, max_area = 150, min_circ = 0.7):\n",
    "\n",
    "    # Binarization\n",
    "    thres = threshold_otsu(img_gray)\n",
    "    img_bin = img_gray > thres\n",
    "    img_c_b = segmentation.clear_border(img_bin)\n",
    "    img_open = morphology.binary_opening(img_c_b, morphology.disk(opening_sz))\n",
    "\n",
    "    # Label image\n",
    "    label_img = measure.label(img_open)\n",
    "\n",
    "    # Extract properties\n",
    "    region_props = measure.regionprops(label_img)\n",
    "    \n",
    "    # Number of blobs\n",
    "    n_nuclei = len(region_props)\n",
    "    \n",
    "    # Filter the label image\n",
    "    label_img_filter = label_img.copy()\n",
    "    for region in region_props:\n",
    "        circ = circularity(region.area, region.perimeter)\n",
    "        # Find the areas that do not fit our criteria\n",
    "        if region.area > max_area or region.area < min_area or circ < min_circ:\n",
    "            n_nuclei = n_nuclei - 1\n",
    "            # set the pixels in the invalid areas to background\n",
    "            for cords in region.coords:\n",
    "                label_img_filter[cords[0], cords[1]] = 0\n",
    "\n",
    "    # Create binary image from the filtered label image\n",
    "    i_area = label_img_filter > 0\n",
    "\n",
    "    return i_area, n_nuclei"
   ],
   "outputs": []
  },
  {
   "cell_type": "code",
   "execution_count": 30,
   "metadata": {},
   "source": [
    "img_org = io.imread(in_dir + 'Sample G1 - COS7 cells DAPI channel.tiff')\n",
    "img_gray = img_as_ubyte(img_org)\n",
    "\n",
    "patches = im2patch(img_gray, patch_size=[300,300])\n",
    "print(f'Number of patches {patches.shape[-1]}')\n",
    "\n",
    "for idx_patch in range(6):\n",
    "    patch = patches[:,:,idx_patch]\n",
    "    filt_label, n_nuclei = cell_counting_ex17(patch, opening_sz = 3)\n",
    "    show_comparison(patch, filt_label, f'Found nuclei: {n_nuclei}')"
   ],
   "outputs": []
  },
  {
   "cell_type": "code",
   "execution_count": null,
   "metadata": {},
   "source": [],
   "outputs": []
  }
 ],
 "metadata": {
  "kernelspec": {
   "display_name": "Python 3.8.13 ('TA_02502')",
   "language": "python",
   "name": "python3"
  },
  "language_info": {
   "codemirror_mode": {
    "name": "ipython",
    "version": 3
   },
   "file_extension": ".py",
   "mimetype": "text/x-python",
   "name": "python",
   "nbconvert_exporter": "python",
   "pygments_lexer": "ipython3",
   "version": "3.9.18"
  },
  "orig_nbformat": 4,
  "vscode": {
   "interpreter": {
    "hash": "51d53b8e1fd0fde6d81c38d7eb18c14552af3d2fef18d70e093d6b142056d954"
   }
  }
 },
 "nbformat": 4,
 "nbformat_minor": 2
}
